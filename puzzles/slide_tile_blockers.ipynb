{
  "nbformat": 4,
  "nbformat_minor": 0,
  "metadata": {
    "colab": {
      "provenance": []
    },
    "kernelspec": {
      "name": "python3",
      "display_name": "Python 3"
    },
    "language_info": {
      "name": "python"
    }
  },
  "cells": [
    {
      "cell_type": "markdown",
      "source": [
        "# Set up the puzzle\n",
        "\n",
        "Define a simple sliding tile board with an arrangement of pieces. The \"hole\" can be moved, depending on where it is on the board."
      ],
      "metadata": {
        "id": "8DrIelUucZAO"
      }
    },
    {
      "cell_type": "code",
      "source": [
        "import numpy as np\n",
        "import matplotlib.pyplot as plt\n",
        "\n",
        "hole_value = 0\n",
        "board_shape = 3\n",
        "board_size = board_shape * board_shape\n",
        "\n",
        "starting_pieces = np.arange(board_size, dtype=int).reshape(board_shape, board_shape)\n",
        "starting_pieces"
      ],
      "metadata": {
        "colab": {
          "base_uri": "https://localhost:8080/"
        },
        "id": "StUA9Gic4qL0",
        "outputId": "e2a68a9b-50a7-4572-9369-600b7ac6a399"
      },
      "execution_count": 1,
      "outputs": [
        {
          "output_type": "execute_result",
          "data": {
            "text/plain": [
              "array([[0, 1, 2],\n",
              "       [3, 4, 5],\n",
              "       [6, 7, 8]])"
            ]
          },
          "metadata": {},
          "execution_count": 1
        }
      ]
    },
    {
      "cell_type": "code",
      "source": [
        "middling_pieces = np.roll(starting_pieces, board_size // 2)\n",
        "middling_pieces"
      ],
      "metadata": {
        "colab": {
          "base_uri": "https://localhost:8080/"
        },
        "id": "Aus77gcC90S-",
        "outputId": "ad46dc7d-68de-4fe7-cbf8-46f1dc8830a8"
      },
      "execution_count": 2,
      "outputs": [
        {
          "output_type": "execute_result",
          "data": {
            "text/plain": [
              "array([[5, 6, 7],\n",
              "       [8, 0, 1],\n",
              "       [2, 3, 4]])"
            ]
          },
          "metadata": {},
          "execution_count": 2
        }
      ]
    },
    {
      "cell_type": "code",
      "source": [
        "ending_pieces = np.roll(starting_pieces, -1)\n",
        "ending_pieces"
      ],
      "metadata": {
        "colab": {
          "base_uri": "https://localhost:8080/"
        },
        "id": "uHHYM3I_9iDQ",
        "outputId": "8967abd0-8c31-4f3d-fd7f-557ae6c2d044"
      },
      "execution_count": 3,
      "outputs": [
        {
          "output_type": "execute_result",
          "data": {
            "text/plain": [
              "array([[1, 2, 3],\n",
              "       [4, 5, 6],\n",
              "       [7, 8, 0]])"
            ]
          },
          "metadata": {},
          "execution_count": 3
        }
      ]
    },
    {
      "cell_type": "code",
      "source": [
        "def hole_location(pieces):\n",
        "  return tuple(np.argwhere(pieces == hole_value)[0])"
      ],
      "metadata": {
        "id": "mbx4bTQs6tVp"
      },
      "execution_count": 4,
      "outputs": []
    },
    {
      "cell_type": "code",
      "source": [
        "hole_location(middling_pieces)"
      ],
      "metadata": {
        "colab": {
          "base_uri": "https://localhost:8080/"
        },
        "id": "OHtmI9w-cBYX",
        "outputId": "06c0ea64-4bdb-4cb0-8d61-120630d5030b"
      },
      "execution_count": 5,
      "outputs": [
        {
          "output_type": "execute_result",
          "data": {
            "text/plain": [
              "(1, 1)"
            ]
          },
          "metadata": {},
          "execution_count": 5
        }
      ]
    },
    {
      "cell_type": "code",
      "source": [
        "def available_hole_moves(pieces):\n",
        "  \"\"\"which moves of the hole are possible from this arrangement of pieces\n",
        "  array of tupes of (axis of array [0, 1], direction of move [-1, 1])\"\"\"\n",
        "  available_moves = []\n",
        "  origin = hole_location(pieces)\n",
        "  for i in [0, 1]:\n",
        "    if (origin[i] - 1) >= 0:\n",
        "      available_moves.append((i, -1))\n",
        "    if (origin[i] + 1) < board_shape:\n",
        "      available_moves.append((i, 1))\n",
        "  return available_moves"
      ],
      "metadata": {
        "id": "ufERgH045m5H"
      },
      "execution_count": 6,
      "outputs": []
    },
    {
      "cell_type": "code",
      "source": [
        "available_hole_moves(ending_pieces)"
      ],
      "metadata": {
        "colab": {
          "base_uri": "https://localhost:8080/"
        },
        "id": "zY7l_yLz9Yo1",
        "outputId": "cc47a7b3-f615-49fa-edd4-537577cfeb5a"
      },
      "execution_count": 7,
      "outputs": [
        {
          "output_type": "execute_result",
          "data": {
            "text/plain": [
              "[(0, -1), (1, -1)]"
            ]
          },
          "metadata": {},
          "execution_count": 7
        }
      ]
    },
    {
      "cell_type": "code",
      "source": [
        "def hole_destination(origin, move):\n",
        "  \"\"\"where the hole will finish after the specified move\"\"\"\n",
        "  destination = list(origin)\n",
        "  axis = move[0]\n",
        "  direction = move[1]\n",
        "  destination[axis] = origin[axis] + direction\n",
        "  return tuple(destination)"
      ],
      "metadata": {
        "id": "poB_x7y9-LKq"
      },
      "execution_count": 8,
      "outputs": []
    },
    {
      "cell_type": "code",
      "source": [
        "destination = hole_destination(hole_location(middling_pieces), (1, 1))\n",
        "destination"
      ],
      "metadata": {
        "colab": {
          "base_uri": "https://localhost:8080/"
        },
        "id": "ZT8R64Aa_DiO",
        "outputId": "c98719d7-cbff-4bf4-87bf-4d0b51323b33"
      },
      "execution_count": 9,
      "outputs": [
        {
          "output_type": "execute_result",
          "data": {
            "text/plain": [
              "(1, 2)"
            ]
          },
          "metadata": {},
          "execution_count": 9
        }
      ]
    },
    {
      "cell_type": "code",
      "source": [
        "middling_pieces[destination]"
      ],
      "metadata": {
        "colab": {
          "base_uri": "https://localhost:8080/"
        },
        "id": "zaraywBUANBS",
        "outputId": "cad04cdf-d021-4cce-9cc1-3a6088f311f0"
      },
      "execution_count": 10,
      "outputs": [
        {
          "output_type": "execute_result",
          "data": {
            "text/plain": [
              "1"
            ]
          },
          "metadata": {},
          "execution_count": 10
        }
      ]
    },
    {
      "cell_type": "code",
      "source": [
        "def move_hole(pieces, move):\n",
        "  \"\"\"move the piece at the hole destination into the gap in order to move the hole\"\"\"\n",
        "  origin = hole_location(pieces)\n",
        "  destination = hole_destination(origin, move)\n",
        "  moving_piece = pieces[destination]\n",
        "  moved_pieces = np.copy(pieces)\n",
        "  moved_pieces[origin] = moving_piece\n",
        "  moved_pieces[destination] = hole_value\n",
        "  return moved_pieces"
      ],
      "metadata": {
        "id": "SYnPedTIEhv3"
      },
      "execution_count": 11,
      "outputs": []
    },
    {
      "cell_type": "code",
      "source": [
        "move_hole(starting_pieces, (0, 1))"
      ],
      "metadata": {
        "colab": {
          "base_uri": "https://localhost:8080/"
        },
        "id": "eFNDDrubHPRR",
        "outputId": "edfbef9b-8332-47c8-d170-bf1b4c5dedf3"
      },
      "execution_count": 12,
      "outputs": [
        {
          "output_type": "execute_result",
          "data": {
            "text/plain": [
              "array([[3, 1, 2],\n",
              "       [0, 4, 5],\n",
              "       [6, 7, 8]])"
            ]
          },
          "metadata": {},
          "execution_count": 12
        }
      ]
    },
    {
      "cell_type": "code",
      "source": [
        "move_hole(starting_pieces, (1, 1))"
      ],
      "metadata": {
        "colab": {
          "base_uri": "https://localhost:8080/"
        },
        "id": "onxB7oMaHWIK",
        "outputId": "3f5673af-653c-410c-c7ed-19d80a146f7f"
      },
      "execution_count": 13,
      "outputs": [
        {
          "output_type": "execute_result",
          "data": {
            "text/plain": [
              "array([[1, 0, 2],\n",
              "       [3, 4, 5],\n",
              "       [6, 7, 8]])"
            ]
          },
          "metadata": {},
          "execution_count": 13
        }
      ]
    },
    {
      "cell_type": "code",
      "source": [
        "move_hole(move_hole(starting_pieces, (1, 1)), (0, 1))"
      ],
      "metadata": {
        "colab": {
          "base_uri": "https://localhost:8080/"
        },
        "id": "EmSugeqqb1hf",
        "outputId": "fe251783-6958-4e4a-d123-25bdcee7da75"
      },
      "execution_count": 14,
      "outputs": [
        {
          "output_type": "execute_result",
          "data": {
            "text/plain": [
              "array([[1, 4, 2],\n",
              "       [3, 0, 5],\n",
              "       [6, 7, 8]])"
            ]
          },
          "metadata": {},
          "execution_count": 14
        }
      ]
    },
    {
      "cell_type": "markdown",
      "source": [
        "# Search for a solution\n",
        "\n",
        "Find a sequence of moves to reach a target arrangement of the board"
      ],
      "metadata": {
        "id": "_ZsWPMQVcWpC"
      }
    },
    {
      "cell_type": "code",
      "source": [
        "def pieces_key(pieces):\n",
        "  \"\"\"return immutable comparable representation of board arrangement\"\"\"\n",
        "  return tuple(pieces.flatten())"
      ],
      "metadata": {
        "id": "jA0amqXauT3I"
      },
      "execution_count": 15,
      "outputs": []
    },
    {
      "cell_type": "code",
      "source": [
        "def same_pieces(p, q):\n",
        "  \"\"\"are these arrangements of pieces identical\"\"\"\n",
        "  return pieces_key(p) == pieces_key(q)"
      ],
      "metadata": {
        "id": "wTOKMoSrdQAA"
      },
      "execution_count": 16,
      "outputs": []
    },
    {
      "cell_type": "code",
      "source": [
        "middling_pieces_copy = np.copy(middling_pieces)\n",
        "same_pieces(middling_pieces_copy, middling_pieces)"
      ],
      "metadata": {
        "colab": {
          "base_uri": "https://localhost:8080/"
        },
        "id": "MWOBFSKNcv9P",
        "outputId": "57c3e47c-289e-41f2-9ae2-3f13b99f6174"
      },
      "execution_count": 17,
      "outputs": [
        {
          "output_type": "execute_result",
          "data": {
            "text/plain": [
              "True"
            ]
          },
          "metadata": {},
          "execution_count": 17
        }
      ]
    },
    {
      "cell_type": "code",
      "source": [
        "same_pieces(middling_pieces, ending_pieces)"
      ],
      "metadata": {
        "colab": {
          "base_uri": "https://localhost:8080/"
        },
        "id": "uDtI7goRdd68",
        "outputId": "317c412e-127e-49ac-f6b1-1c8362ba0edf"
      },
      "execution_count": 18,
      "outputs": [
        {
          "output_type": "execute_result",
          "data": {
            "text/plain": [
              "False"
            ]
          },
          "metadata": {},
          "execution_count": 18
        }
      ]
    },
    {
      "cell_type": "code",
      "source": [
        "def neighbours(visited, path, source, neighbour_test=None):\n",
        "  \"\"\"which neighbouring arrangements can be reached in a single move from source\n",
        "  ignores neighbours previously visited\n",
        "  applies the optional neighbour_test function if provided\n",
        "  also accumulates the path from the initial arrangement\"\"\"\n",
        "  if neighbour_test is None:\n",
        "    neighbour_test = lambda m, n: True\n",
        "  ns = []\n",
        "  for move in available_hole_moves(source):\n",
        "    neighbour = move_hole(source, move)\n",
        "    if neighbour_test(move, neighbour) and pieces_key(neighbour) not in visited:\n",
        "      ns.append((path.copy() + [move], neighbour))\n",
        "  return ns"
      ],
      "metadata": {
        "id": "vRn1wSIEx7pu"
      },
      "execution_count": 19,
      "outputs": []
    },
    {
      "cell_type": "code",
      "source": [
        "def solve(source, target, target_as_test=False, neighbour_test=None, limit=1):\n",
        "  \"\"\" search for sequence(s) of moves to reach target, up to limit solutions\n",
        "  target can be a specified arrangement or another function returning a boolean\n",
        "  passes neighbour_test function to neighbours search\"\"\"\n",
        "  target_test = target if target_as_test else lambda s: same_pieces(s, target)\n",
        "  if target_test(source):\n",
        "    return []\n",
        "  visited = set([pieces_key(source)])\n",
        "  stack = neighbours(visited, [], source, neighbour_test)\n",
        "  solutions = []\n",
        "  #count = 1\n",
        "  while len(stack) > 0:\n",
        "    #count = count + 1\n",
        "    #if count % 10000 == 0:\n",
        "    #  print(count, len(visited), len(stack))\n",
        "    p, s = stack.pop()\n",
        "    if pieces_key(s) not in visited:\n",
        "      visited.add(pieces_key(s))\n",
        "      if target_test(s):\n",
        "        solutions.append(p)\n",
        "        if len(solutions) >= limit:\n",
        "          break\n",
        "      stack[0:0] = neighbours(visited, p, s, neighbour_test)\n",
        "  return solutions"
      ],
      "metadata": {
        "id": "ZCs62y1idtb6"
      },
      "execution_count": 20,
      "outputs": []
    },
    {
      "cell_type": "code",
      "source": [
        "solve(starting_pieces, move_hole(starting_pieces, (1, 1)))"
      ],
      "metadata": {
        "colab": {
          "base_uri": "https://localhost:8080/"
        },
        "id": "1ySlB3W5msIU",
        "outputId": "a4296a8b-5635-4026-da99-c27e44266052"
      },
      "execution_count": 21,
      "outputs": [
        {
          "output_type": "execute_result",
          "data": {
            "text/plain": [
              "[[(1, 1)]]"
            ]
          },
          "metadata": {},
          "execution_count": 21
        }
      ]
    },
    {
      "cell_type": "code",
      "source": [
        "solve(starting_pieces, move_hole(move_hole(starting_pieces, (1, 1)), (0, 1)))"
      ],
      "metadata": {
        "colab": {
          "base_uri": "https://localhost:8080/"
        },
        "id": "Lfvyiv1bot4C",
        "outputId": "08259686-4f1e-446d-b35f-6cba53d7c1ab"
      },
      "execution_count": 22,
      "outputs": [
        {
          "output_type": "execute_result",
          "data": {
            "text/plain": [
              "[[(1, 1), (0, 1)]]"
            ]
          },
          "metadata": {},
          "execution_count": 22
        }
      ]
    },
    {
      "cell_type": "code",
      "source": [
        "few_moves_pieces = np.array([[3, 2, 5], [4, 0, 1], [6, 7, 8]])\n",
        "few_moves_pieces"
      ],
      "metadata": {
        "colab": {
          "base_uri": "https://localhost:8080/"
        },
        "id": "NVvAEDTeQpcj",
        "outputId": "fc4b96f4-f1ba-4ac2-b594-7c2c9af7311a"
      },
      "execution_count": 23,
      "outputs": [
        {
          "output_type": "execute_result",
          "data": {
            "text/plain": [
              "array([[3, 2, 5],\n",
              "       [4, 0, 1],\n",
              "       [6, 7, 8]])"
            ]
          },
          "metadata": {},
          "execution_count": 23
        }
      ]
    },
    {
      "cell_type": "code",
      "source": [
        "solve(few_moves_pieces, starting_pieces)"
      ],
      "metadata": {
        "colab": {
          "base_uri": "https://localhost:8080/"
        },
        "id": "Rf7n-06gQ7_n",
        "outputId": "5111f7d5-073e-42c1-883e-d21bc0521253"
      },
      "execution_count": 24,
      "outputs": [
        {
          "output_type": "execute_result",
          "data": {
            "text/plain": [
              "[[(1, 1), (0, -1), (1, -1), (0, 1), (1, -1), (0, -1)]]"
            ]
          },
          "metadata": {},
          "execution_count": 24
        }
      ]
    },
    {
      "cell_type": "code",
      "source": [
        "solve(starting_pieces, middling_pieces)"
      ],
      "metadata": {
        "colab": {
          "base_uri": "https://localhost:8080/"
        },
        "id": "ZjMg4JEK7jPB",
        "outputId": "42fadbc6-b3af-467c-c900-15e06291d22c"
      },
      "execution_count": 25,
      "outputs": [
        {
          "output_type": "execute_result",
          "data": {
            "text/plain": [
              "[[(1, 1),\n",
              "  (1, 1),\n",
              "  (0, 1),\n",
              "  (1, -1),\n",
              "  (0, 1),\n",
              "  (1, 1),\n",
              "  (0, -1),\n",
              "  (1, -1),\n",
              "  (0, 1),\n",
              "  (1, -1),\n",
              "  (0, -1),\n",
              "  (1, 1),\n",
              "  (0, -1),\n",
              "  (1, -1),\n",
              "  (0, 1),\n",
              "  (1, 1),\n",
              "  (0, -1),\n",
              "  (1, 1),\n",
              "  (0, 1),\n",
              "  (1, -1),\n",
              "  (0, 1),\n",
              "  (1, -1),\n",
              "  (0, -1),\n",
              "  (0, -1),\n",
              "  (1, 1),\n",
              "  (0, 1)]]"
            ]
          },
          "metadata": {},
          "execution_count": 25
        }
      ]
    },
    {
      "cell_type": "code",
      "source": [
        "solve(starting_pieces, ending_pieces)"
      ],
      "metadata": {
        "colab": {
          "base_uri": "https://localhost:8080/"
        },
        "id": "MrFrwxelze0z",
        "outputId": "fd7863a2-f06f-47c5-b537-e8af707e7ee6"
      },
      "execution_count": 26,
      "outputs": [
        {
          "output_type": "execute_result",
          "data": {
            "text/plain": [
              "[[(1, 1),\n",
              "  (0, 1),\n",
              "  (1, -1),\n",
              "  (0, 1),\n",
              "  (1, 1),\n",
              "  (1, 1),\n",
              "  (0, -1),\n",
              "  (1, -1),\n",
              "  (1, -1),\n",
              "  (0, 1),\n",
              "  (1, 1),\n",
              "  (0, -1),\n",
              "  (0, -1),\n",
              "  (1, 1),\n",
              "  (0, 1),\n",
              "  (0, 1),\n",
              "  (1, -1),\n",
              "  (1, -1),\n",
              "  (0, -1),\n",
              "  (1, 1),\n",
              "  (1, 1),\n",
              "  (0, 1)]]"
            ]
          },
          "metadata": {},
          "execution_count": 26
        }
      ]
    },
    {
      "cell_type": "markdown",
      "source": [
        "# Model blockers that prevent certain piece arrangements\n",
        "\n",
        "These tiles now have protruding elements that can interfere to prevent certain arrangements of tiles"
      ],
      "metadata": {
        "id": "zE7B2_h_phcc"
      }
    },
    {
      "cell_type": "code",
      "source": [
        "# blockers attached to pieces cover cells of basically a 4 x 4 grid with central spines\n",
        "# x are outer blockers extending beyond the boundaries of the piece\n",
        "# y are inner blockers within the boundaries of the piece\n",
        "# this is the next plan - to capture move constraints\n",
        "# z exists to capture the central spine, which doesn't interfere except when moving\n",
        "# x x . x x\n",
        "# x y z y x\n",
        "# . z z z .\n",
        "# x y z y x\n",
        "# x x . x x\n",
        "blocker_shape = 5\n",
        "blocker_outer = 2\n",
        "blocker_inner = blocker_shape - blocker_outer\n",
        "\n",
        "# 1 blocker grid per piece\n",
        "blockers_1 = np.zeros((board_size - 1, blocker_shape, blocker_shape), dtype=int)\n",
        "\n",
        "# game pieces indexed according to puzzle 1\n",
        "# blockers are zero-indexed but pieces on board are one-indexed as hole is zero\n",
        "blockers_1[0, 0, 1] = 1\n",
        "blockers_1[0, 0, 2] = 1\n",
        "blockers_1[0, 0, 3] = 1\n",
        "blockers_1[0, 1, 1] = 1\n",
        "blockers_1[0, 1, 2] = 1\n",
        "blockers_1[0, 1, 3] = 1\n",
        "blockers_1[1, 3, 1] = 1\n",
        "blockers_1[2, 1, 1] = 1\n",
        "blockers_1[2, 3, 3] = 1\n",
        "blockers_1[3, 1, 0] = 1\n",
        "blockers_1[3, 1, 1] = 1\n",
        "blockers_1[3, 1, 2] = 1\n",
        "blockers_1[3, 1, 3] = 1\n",
        "blockers_1[3, 1, 4] = 1\n",
        "blockers_1[3, 2, 2] = 1\n",
        "blockers_1[3, 3, 2] = 1\n",
        "blockers_1[4, 3, 0] = 1\n",
        "blockers_1[4, 3, 1] = 1\n",
        "blockers_1[4, 4, 0] = 1\n",
        "blockers_1[4, 4, 1] = 1\n",
        "blockers_1[5, 3, 3] = 1\n",
        "blockers_1[6, 1, 1] = 1\n",
        "blockers_1[6, 3, 1] = 1\n",
        "blockers_1[7, 1, 3] = 1\n",
        "\n",
        "blockers_1[0]"
      ],
      "metadata": {
        "colab": {
          "base_uri": "https://localhost:8080/"
        },
        "id": "i1Xj1vzFpg1n",
        "outputId": "57eda296-3e07-4af1-ee50-f0ee45073d42"
      },
      "execution_count": 27,
      "outputs": [
        {
          "output_type": "execute_result",
          "data": {
            "text/plain": [
              "array([[0, 1, 1, 1, 0],\n",
              "       [0, 1, 1, 1, 0],\n",
              "       [0, 0, 0, 0, 0],\n",
              "       [0, 0, 0, 0, 0],\n",
              "       [0, 0, 0, 0, 0]])"
            ]
          },
          "metadata": {},
          "execution_count": 27
        }
      ]
    },
    {
      "cell_type": "code",
      "source": [
        "def piece_location(pieces, index):\n",
        "  return tuple(np.argwhere(pieces == index)[0])"
      ],
      "metadata": {
        "id": "vGBSM2HcxS5C"
      },
      "execution_count": 28,
      "outputs": []
    },
    {
      "cell_type": "code",
      "source": [
        "def superpose_blockers(pieces, blockers):\n",
        "  \"\"\"count the piece blockers present in each board grid cell\"\"\"\n",
        "  grid_shape = board_shape * blocker_inner + blocker_outer\n",
        "  grid = np.zeros((grid_shape, grid_shape), dtype=int)\n",
        "  for i in range(board_size - 1):\n",
        "    offset = tuple(np.array(piece_location(pieces, i + 1)) * blocker_inner)\n",
        "    piece_slice = np.s_[offset[0]:offset[0] + blocker_shape, offset[1]:offset[1] + blocker_shape]\n",
        "    grid[piece_slice] = grid[piece_slice] + blockers[i, ...]\n",
        "  return grid"
      ],
      "metadata": {
        "id": "rNSAk-sa1WkZ"
      },
      "execution_count": 29,
      "outputs": []
    },
    {
      "cell_type": "code",
      "source": [
        "def blocker_interference(pieces, blockers):\n",
        "  \"\"\"test whether blockers interfere\"\"\"\n",
        "  grid = superpose_blockers(pieces, blockers)\n",
        "  return np.max(grid) > 1"
      ],
      "metadata": {
        "id": "GpRzjf4CqwGH"
      },
      "execution_count": 30,
      "outputs": []
    },
    {
      "cell_type": "code",
      "source": [
        "blocker_1_pieces_start = np.array([[1, 2, 3], [4, 5, 6], [7, 0, 8]])\n",
        "blocker_1_pieces_invalid = np.array([[1, 2, 3], [0, 5, 6], [7, 4, 8]])"
      ],
      "metadata": {
        "id": "qihs2X4k1_PT"
      },
      "execution_count": 31,
      "outputs": []
    },
    {
      "cell_type": "code",
      "source": [
        "plt.imshow(superpose_blockers(blocker_1_pieces_start, blockers_1), vmax=2)\n",
        "plt.title(f'blocker interference: {blocker_interference(blocker_1_pieces_start, blockers_1)}')\n",
        "plt.show()"
      ],
      "metadata": {
        "colab": {
          "base_uri": "https://localhost:8080/",
          "height": 281
        },
        "id": "_--D-yjjQyT_",
        "outputId": "c8349e97-67c5-4ccd-f746-78976fd4863f"
      },
      "execution_count": 32,
      "outputs": [
        {
          "output_type": "display_data",
          "data": {
            "text/plain": [
              "<Figure size 432x288 with 1 Axes>"
            ],
            "image/png": "[encoded data removed]"
          },
          "metadata": {
            "needs_background": "light"
          }
        }
      ]
    },
    {
      "cell_type": "code",
      "source": [
        "plt.imshow(superpose_blockers(blocker_1_pieces_invalid, blockers_1), vmax=2)\n",
        "plt.title(f'blocker interference: {blocker_interference(blocker_1_pieces_invalid, blockers_1)}')\n",
        "plt.show()"
      ],
      "metadata": {
        "colab": {
          "base_uri": "https://localhost:8080/",
          "height": 281
        },
        "id": "RAXgIQ0kRPAT",
        "outputId": "b90c2493-4432-43b1-b2bb-1d163f822868"
      },
      "execution_count": 33,
      "outputs": [
        {
          "output_type": "display_data",
          "data": {
            "text/plain": [
              "<Figure size 432x288 with 1 Axes>"
            ],
            "image/png": "[encoded data removed]"
          },
          "metadata": {
            "needs_background": "light"
          }
        }
      ]
    },
    {
      "cell_type": "markdown",
      "source": [
        "# Solve an easy puzzle\n",
        "\n",
        "Solve an easy version of the puzzle with blockers"
      ],
      "metadata": {
        "id": "Jri12cZeZZAa"
      }
    },
    {
      "cell_type": "code",
      "source": [
        "def piece_at_location(pieces, index, location):\n",
        "  return piece_location(pieces, index) == location"
      ],
      "metadata": {
        "id": "ZrHeYXIsh2Qn"
      },
      "execution_count": 34,
      "outputs": []
    },
    {
      "cell_type": "code",
      "source": [
        "piece_at_location(blocker_1_pieces_start, 4, (1, 0)), piece_at_location(blocker_1_pieces_start, 4, (1, 1))"
      ],
      "metadata": {
        "colab": {
          "base_uri": "https://localhost:8080/"
        },
        "id": "QA1lNzldiNBZ",
        "outputId": "9b752f24-d888-4211-c82e-29d7c149450f"
      },
      "execution_count": 35,
      "outputs": [
        {
          "output_type": "execute_result",
          "data": {
            "text/plain": [
              "(True, False)"
            ]
          },
          "metadata": {},
          "execution_count": 35
        }
      ]
    },
    {
      "cell_type": "code",
      "source": [
        "solve(blocker_1_pieces_start,\n",
        "      lambda ps: piece_at_location(ps, 4, (2, 1)),\n",
        "      True,\n",
        "      lambda m, ps: not blocker_interference(ps, blockers_1))"
      ],
      "metadata": {
        "colab": {
          "base_uri": "https://localhost:8080/"
        },
        "id": "RqLGMvtGZYb8",
        "outputId": "5ea916d7-f8c6-4b33-b5c0-42943293d1a9"
      },
      "execution_count": 36,
      "outputs": [
        {
          "output_type": "execute_result",
          "data": {
            "text/plain": [
              "[[(0, -1), (1, -1), (0, 1), (1, 1), (0, -1)]]"
            ]
          },
          "metadata": {},
          "execution_count": 36
        }
      ]
    },
    {
      "cell_type": "markdown",
      "source": [
        "# Model blockers that prevent certain piece arrangements and moves\n",
        "\n",
        "Now we also consider piece blockers interfering during the movement of tiles between arrangements"
      ],
      "metadata": {
        "id": "sfY01sS3nd19"
      }
    },
    {
      "cell_type": "code",
      "source": [
        "blockers_60 = np.zeros((board_size - 1, blocker_shape, blocker_shape), dtype=int)\n",
        "blockers_60[0, 1, 0] = 1\n",
        "blockers_60[0, 1, 1] = 1\n",
        "blockers_60[0, 1, 2] = 1\n",
        "blockers_60[0, 1, 3] = 1\n",
        "blockers_60[0, 1, 4] = 1\n",
        "blockers_60[0, 2, 2] = 1\n",
        "blockers_60[0, 3, 2] = 1\n",
        "blockers_60[1, 3, 1] = 1\n",
        "blockers_60[1, 3, 3] = 1\n",
        "blockers_60[2, 1, 3] = 1\n",
        "blockers_60[3, 1, 1] = 1\n",
        "blockers_60[4, 1, 1] = 1\n",
        "blockers_60[5, 1, 0] = 1\n",
        "blockers_60[5, 1, 1] = 1\n",
        "blockers_60[5, 2, 0] = 1\n",
        "blockers_60[5, 2, 1] = 1\n",
        "blockers_60[5, 3, 0] = 1\n",
        "blockers_60[5, 3, 1] = 1\n",
        "blockers_60[6, 0, 3] = 1\n",
        "blockers_60[6, 0, 4] = 1\n",
        "blockers_60[6, 1, 3] = 1\n",
        "blockers_60[6, 1, 4] = 1\n",
        "blockers_60[7, 1, 3] = 1\n",
        "blockers_60[7, 3, 1] = 1\n",
        "\n",
        "blockers_60[0]"
      ],
      "metadata": {
        "colab": {
          "base_uri": "https://localhost:8080/"
        },
        "id": "XD5WY3UvkdaQ",
        "outputId": "af508612-41c5-43bd-f237-8b2c3e477e3d"
      },
      "execution_count": 37,
      "outputs": [
        {
          "output_type": "execute_result",
          "data": {
            "text/plain": [
              "array([[0, 0, 0, 0, 0],\n",
              "       [1, 1, 1, 1, 1],\n",
              "       [0, 0, 1, 0, 0],\n",
              "       [0, 0, 1, 0, 0],\n",
              "       [0, 0, 0, 0, 0]])"
            ]
          },
          "metadata": {},
          "execution_count": 37
        }
      ]
    },
    {
      "cell_type": "code",
      "source": [
        "blocker_60_pieces_start = np.array([[1, 2, 3], [4, 0, 5], [6, 7, 8]])"
      ],
      "metadata": {
        "id": "ZlNyF3U0mz-S"
      },
      "execution_count": 38,
      "outputs": []
    },
    {
      "cell_type": "code",
      "source": [
        "plt.imshow(superpose_blockers(blocker_60_pieces_start, blockers_60), vmax=2)\n",
        "plt.title('initial blockers')\n",
        "plt.show()"
      ],
      "metadata": {
        "colab": {
          "base_uri": "https://localhost:8080/",
          "height": 281
        },
        "id": "oWQNPOnAVk87",
        "outputId": "a7b9ac79-3ad5-4e49-f9ea-08baa85fbe59"
      },
      "execution_count": 39,
      "outputs": [
        {
          "output_type": "display_data",
          "data": {
            "text/plain": [
              "<Figure size 432x288 with 1 Axes>"
            ],
            "image/png": "[encoded data removed]"
          },
          "metadata": {
            "needs_background": "light"
          }
        }
      ]
    },
    {
      "cell_type": "code",
      "source": [
        "def reverse_move(move):\n",
        "  return (move[0], -move[1])"
      ],
      "metadata": {
        "id": "y0BRSsy3vsQU"
      },
      "execution_count": 40,
      "outputs": []
    },
    {
      "cell_type": "code",
      "source": [
        "def hole_origin(move, destination):\n",
        "  return hole_destination(destination, reverse_move(move))"
      ],
      "metadata": {
        "id": "tPIfdxmFxc9d"
      },
      "execution_count": 41,
      "outputs": []
    },
    {
      "cell_type": "code",
      "source": [
        "def moved_piece(move, pieces_end):\n",
        "  hole_dest = hole_location(pieces_end)\n",
        "  hole_orig = hole_origin(move, hole_dest)\n",
        "  return pieces_end[hole_orig]"
      ],
      "metadata": {
        "id": "NCuL75hrxLd2"
      },
      "execution_count": 42,
      "outputs": []
    },
    {
      "cell_type": "code",
      "source": [
        "moved_horz_blocker_60_pieces = move_hole(blocker_60_pieces_start, (1, 1))\n",
        "moved_horz_blocker_60_pieces"
      ],
      "metadata": {
        "colab": {
          "base_uri": "https://localhost:8080/"
        },
        "id": "yBjvfHQ64XKT",
        "outputId": "0557b810-ebe4-4f1a-dd7c-9041c02ab860"
      },
      "execution_count": 43,
      "outputs": [
        {
          "output_type": "execute_result",
          "data": {
            "text/plain": [
              "array([[1, 2, 3],\n",
              "       [4, 5, 0],\n",
              "       [6, 7, 8]])"
            ]
          },
          "metadata": {},
          "execution_count": 43
        }
      ]
    },
    {
      "cell_type": "code",
      "source": [
        "moved_piece((1, 1), moved_horz_blocker_60_pieces) == 5"
      ],
      "metadata": {
        "colab": {
          "base_uri": "https://localhost:8080/"
        },
        "id": "IrBJKsrHyUGl",
        "outputId": "7af529b1-2437-47e0-9362-495570e90c88"
      },
      "execution_count": 44,
      "outputs": [
        {
          "output_type": "execute_result",
          "data": {
            "text/plain": [
              "True"
            ]
          },
          "metadata": {},
          "execution_count": 44
        }
      ]
    },
    {
      "cell_type": "code",
      "source": [
        "def interpolate_superpose_blockers(move, pieces_end, blockers):\n",
        "  \"\"\"count the piece blockers present in each board grid cell as the tile moves\"\"\"\n",
        "  i_moved = moved_piece(move, pieces_end)\n",
        "  grid_shape = board_shape * blocker_inner + blocker_outer\n",
        "  grids = []\n",
        "  for s in range(blocker_inner + 1):\n",
        "    grid = np.zeros((grid_shape, grid_shape), dtype=int)\n",
        "    for i in range(board_size - 1):\n",
        "      move_offset = np.array([0, 0])\n",
        "      if i + 1 == i_moved:\n",
        "        move_offset[move[0]] = s * move[1]\n",
        "      offset = tuple((np.array(piece_location(pieces_end, i + 1)) * blocker_inner) + move_offset)\n",
        "      piece_slice = np.s_[offset[0]:offset[0] + blocker_shape, offset[1]:offset[1] + blocker_shape]\n",
        "      grid[piece_slice] = grid[piece_slice] + blockers[i, ...]\n",
        "    grids.insert(0, grid)\n",
        "  return grids"
      ],
      "metadata": {
        "id": "eFbnw4mZtek7"
      },
      "execution_count": 45,
      "outputs": []
    },
    {
      "cell_type": "code",
      "source": [
        "def interpolate_blocker_interference(move, pieces_end, blockers):\n",
        "  \"\"\"test whether blockers interfere\"\"\"\n",
        "  grids = interpolate_superpose_blockers(move, pieces_end, blockers)\n",
        "  return max([np.max(g) for g in grids]) > 1  "
      ],
      "metadata": {
        "id": "muBmZzDT5l2R"
      },
      "execution_count": 46,
      "outputs": []
    },
    {
      "cell_type": "code",
      "source": [
        "grids = interpolate_superpose_blockers((1, 1), moved_horz_blocker_60_pieces, blockers_60)\n",
        "\n",
        "for s, g in enumerate(grids):\n",
        "  plt.imshow(g[4:7,:], vmax=2)\n",
        "  plt.title(f'interpolated move blocker grid slice, step {s}')\n",
        "  plt.show()\n",
        "\n",
        "print(f'blocker interference: {interpolate_blocker_interference((1, 1), moved_horz_blocker_60_pieces, blockers_60)}')"
      ],
      "metadata": {
        "colab": {
          "base_uri": "https://localhost:8080/",
          "height": 587
        },
        "id": "7IFsXbT_1eqP",
        "outputId": "3437656e-3a1f-4b3c-a947-e5cecda69abb"
      },
      "execution_count": 47,
      "outputs": [
        {
          "output_type": "display_data",
          "data": {
            "text/plain": [
              "<Figure size 432x288 with 1 Axes>"
            ],
            "image/png": "[encoded data removed]"
          },
          "metadata": {
            "needs_background": "light"
          }
        },
        {
          "output_type": "display_data",
          "data": {
            "text/plain": [
              "<Figure size 432x288 with 1 Axes>"
            ],
            "image/png": "[encoded data removed]"
          },
          "metadata": {
            "needs_background": "light"
          }
        },
        {
          "output_type": "display_data",
          "data": {
            "text/plain": [
              "<Figure size 432x288 with 1 Axes>"
            ],
            "image/png": "[encoded data removed]"
          },
          "metadata": {
            "needs_background": "light"
          }
        },
        {
          "output_type": "display_data",
          "data": {
            "text/plain": [
              "<Figure size 432x288 with 1 Axes>"
            ],
            "image/png": "[encoded data removed]"
          },
          "metadata": {
            "needs_background": "light"
          }
        },
        {
          "output_type": "stream",
          "name": "stdout",
          "text": [
            "blocker interference: False\n"
          ]
        }
      ]
    },
    {
      "cell_type": "code",
      "source": [
        "moved_vert_blocker_60_pieces = move_hole(blocker_60_pieces_start, (0, 1))\n",
        "moved_vert_blocker_60_pieces"
      ],
      "metadata": {
        "colab": {
          "base_uri": "https://localhost:8080/"
        },
        "id": "lLrcXrH36b4T",
        "outputId": "6efa9d92-ab18-4239-ba91-11adf41f4d4b"
      },
      "execution_count": 48,
      "outputs": [
        {
          "output_type": "execute_result",
          "data": {
            "text/plain": [
              "array([[1, 2, 3],\n",
              "       [4, 7, 5],\n",
              "       [6, 0, 8]])"
            ]
          },
          "metadata": {},
          "execution_count": 48
        }
      ]
    },
    {
      "cell_type": "code",
      "source": [
        "grids = interpolate_superpose_blockers((0, 1), moved_vert_blocker_60_pieces, blockers_60)\n",
        "\n",
        "for s, g in enumerate(grids):\n",
        "  plt.figure(figsize=(6, 2))\n",
        "  plt.imshow(g[:,4:7], vmax=2)\n",
        "  plt.axis('off')\n",
        "  plt.title(f'interpolated move blocker grid slice, step {s}')\n",
        "  plt.show()\n",
        "\n",
        "print(f'blocker interference: {interpolate_blocker_interference((0, 1), moved_vert_blocker_60_pieces, blockers_60)}')"
      ],
      "metadata": {
        "colab": {
          "base_uri": "https://localhost:8080/",
          "height": 591
        },
        "id": "8Rr4KB-H6qDI",
        "outputId": "914c5d8f-8906-422e-9acd-80cb00b323bf"
      },
      "execution_count": 49,
      "outputs": [
        {
          "output_type": "display_data",
          "data": {
            "text/plain": [
              "<Figure size 432x144 with 1 Axes>"
            ],
            "image/png": "[encoded data removed]"
          },
          "metadata": {
            "needs_background": "light"
          }
        },
        {
          "output_type": "display_data",
          "data": {
            "text/plain": [
              "<Figure size 432x144 with 1 Axes>"
            ],
            "image/png": "[encoded data removed]"
          },
          "metadata": {
            "needs_background": "light"
          }
        },
        {
          "output_type": "display_data",
          "data": {
            "text/plain": [
              "<Figure size 432x144 with 1 Axes>"
            ],
            "image/png": "[encoded data removed]"
          },
          "metadata": {
            "needs_background": "light"
          }
        },
        {
          "output_type": "display_data",
          "data": {
            "text/plain": [
              "<Figure size 432x144 with 1 Axes>"
            ],
            "image/png": "[encoded data removed]"
          },
          "metadata": {
            "needs_background": "light"
          }
        },
        {
          "output_type": "stream",
          "name": "stdout",
          "text": [
            "blocker interference: True\n"
          ]
        }
      ]
    },
    {
      "cell_type": "code",
      "source": [
        "def exit_interference(ps, blockers):\n",
        "  \"\"\"test whether the exit path has blocker interference\"\"\"\n",
        "  grid = superpose_blockers(ps, blockers)\n",
        "  return np.sum(grid[-2:, blocker_inner:blocker_inner + 2]) + \\\n",
        "         np.sum(grid[-2:, 2 * blocker_inner: 2 * blocker_inner + 2]) > 0"
      ],
      "metadata": {
        "id": "p3dfubWkDlFk"
      },
      "execution_count": 50,
      "outputs": []
    },
    {
      "cell_type": "code",
      "source": [
        "blocked_exit = np.array([[4, 5, 7], [6, 0, 3], [2, 1, 8]])\n",
        "exit_interference(blocked_exit, blockers_60)"
      ],
      "metadata": {
        "colab": {
          "base_uri": "https://localhost:8080/"
        },
        "id": "YqgXzbKNFGZe",
        "outputId": "acd4226f-5c01-4b19-9a42-d68d840792b7"
      },
      "execution_count": 51,
      "outputs": [
        {
          "output_type": "execute_result",
          "data": {
            "text/plain": [
              "True"
            ]
          },
          "metadata": {},
          "execution_count": 51
        }
      ]
    },
    {
      "cell_type": "code",
      "source": [
        "clear_exit = np.array([[4, 5, 7], [6, 2, 8], [0, 1, 3]])\n",
        "exit_interference(clear_exit, blockers_60)"
      ],
      "metadata": {
        "colab": {
          "base_uri": "https://localhost:8080/"
        },
        "id": "scgXLt9YFtK1",
        "outputId": "ec18e8e9-7490-42f0-aae9-62d9e785fb1c"
      },
      "execution_count": 52,
      "outputs": [
        {
          "output_type": "execute_result",
          "data": {
            "text/plain": [
              "False"
            ]
          },
          "metadata": {},
          "execution_count": 52
        }
      ]
    },
    {
      "cell_type": "markdown",
      "source": [
        "#Solve a hard puzzle\n",
        "\n",
        "Solve a hard version of the puzzle with blockers, that requires testing whether moves, as well as arrangements, (and including the last exit move I don't otherwise model) are free of interference as well as arrangements"
      ],
      "metadata": {
        "id": "yruaSMYmkd16"
      }
    },
    {
      "cell_type": "code",
      "source": [
        "solutions = solve(blocker_60_pieces_start,\n",
        "                  lambda ps: piece_at_location(ps, 1, (2, 1)) and not exit_interference(ps, blockers_60),\n",
        "                  True,\n",
        "                  lambda m, ps: not interpolate_blocker_interference(m, ps, blockers_60),\n",
        "                  10)"
      ],
      "metadata": {
        "id": "1Dz_VwDdmha6"
      },
      "execution_count": 53,
      "outputs": []
    },
    {
      "cell_type": "code",
      "source": [
        "[len(s) for s in solutions]"
      ],
      "metadata": {
        "colab": {
          "base_uri": "https://localhost:8080/"
        },
        "id": "CduGC83afTjN",
        "outputId": "acb72b31-a47a-46ee-88b3-f502f8dc43bf"
      },
      "execution_count": 54,
      "outputs": [
        {
          "output_type": "execute_result",
          "data": {
            "text/plain": [
              "[108, 109, 109, 109, 110, 110, 110, 110, 110, 111]"
            ]
          },
          "metadata": {},
          "execution_count": 54
        }
      ]
    }
  ]
}