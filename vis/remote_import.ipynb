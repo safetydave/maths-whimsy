{
 "cells": [
  {
   "cell_type": "markdown",
   "id": "c7bd63ee-800d-4394-8b07-9c760fd81d7e",
   "metadata": {},
   "source": [
    "## Import sdmdlvis module direct from github"
   ]
  },
  {
   "cell_type": "code",
   "execution_count": 1,
   "id": "98fa0435-0ae5-4b3c-8105-f97e4640c3bc",
   "metadata": {
    "tags": []
   },
   "outputs": [],
   "source": [
    "import httpimport\n",
    "\n",
    "with httpimport.remote_repo('https://raw.githubusercontent.com/safetydave/maths-whimsy/main/vis/sdmdlvis.py'):\n",
    "    import sdmdlvis as mv"
   ]
  },
  {
   "cell_type": "markdown",
   "id": "e563f0bf-09ed-44cc-a167-354989b24063",
   "metadata": {},
   "source": [
    "## Define a simple bptk model"
   ]
  },
  {
   "cell_type": "code",
   "execution_count": 2,
   "id": "32f9f6d7-b469-4d63-a5d8-f89420723ecb",
   "metadata": {},
   "outputs": [],
   "source": [
    "from BPTK_Py import Model\n",
    "\n",
    "model = Model(starttime=1.0, stoptime=10.0, dt=1.0, name='Watershed')\n",
    "pond = model.stock('pond')\n",
    "inflow = model.flow('inflow')\n",
    "inflow.equation = 1.0\n",
    "pond.equation = inflow"
   ]
  },
  {
   "cell_type": "markdown",
   "id": "58e87362-5d0b-40aa-81c9-e4783f8edff8",
   "metadata": {},
   "source": [
    "## Create model graph"
   ]
  },
  {
   "cell_type": "code",
   "execution_count": 3,
   "id": "c83cd0c0-b0e0-41a7-a492-793887cd62f9",
   "metadata": {},
   "outputs": [],
   "source": [
    "mg = mv.model_graph(model)"
   ]
  },
  {
   "cell_type": "markdown",
   "id": "fa639902-e93e-4f10-b7a5-379677286550",
   "metadata": {},
   "source": [
    "## Visualise model graph - interactive"
   ]
  },
  {
   "cell_type": "code",
   "execution_count": 4,
   "id": "44c6a5df-5136-440b-ac90-514009dc17db",
   "metadata": {},
   "outputs": [
    {
     "name": "stdout",
     "output_type": "stream",
     "text": [
      "mgnx.html\n"
     ]
    },
    {
     "data": {
      "text/html": [
       "\n",
       "        <iframe\n",
       "            width=\"100%\"\n",
       "            height=\"400px\"\n",
       "            src=\"mgnx.html\"\n",
       "            frameborder=\"0\"\n",
       "            allowfullscreen\n",
       "            \n",
       "        ></iframe>\n",
       "        "
      ],
      "text/plain": [
       "<IPython.lib.display.IFrame at 0x1217d97c0>"
      ]
     },
     "execution_count": 4,
     "metadata": {},
     "output_type": "execute_result"
    }
   ],
   "source": [
    "from pyvis.network import Network\n",
    "\n",
    "nt = Network('400px', '100%', directed=True, notebook=True, cdn_resources='in_line')\n",
    "nt.from_nx(mg)\n",
    "nt.show('mgnx.html')"
   ]
  },
  {
   "cell_type": "markdown",
   "id": "e85631aa-021e-42cc-a891-3df0ec805ea5",
   "metadata": {},
   "source": [
    "## Visualise model graph - static"
   ]
  },
  {
   "cell_type": "code",
   "execution_count": 5,
   "id": "2fe63621-7489-48b6-a5d2-cb12728db65b",
   "metadata": {},
   "outputs": [
    {
     "data": {
      "image/png": "[encoded data removed]",
      "text/plain": [
       "<Figure size 1152x648 with 1 Axes>"
      ]
     },
     "metadata": {},
     "output_type": "display_data"
    }
   ],
   "source": [
    "import matplotlib.pyplot as plt\n",
    "\n",
    "plt.figure(figsize=(16, 9))\n",
    "plt.gca().margins(0.3)\n",
    "mv.draw_model_graph(model, ax=plt.gca(), eqn=False)\n",
    "plt.show()"
   ]
  },
  {
   "cell_type": "code",
   "execution_count": null,
   "id": "99c37207-ddc2-4561-a344-0e962f2269e7",
   "metadata": {},
   "outputs": [],
   "source": []
  }
 ],
 "metadata": {
  "kernelspec": {
   "display_name": "Python 3 (ipykernel)",
   "language": "python",
   "name": "python3"
  },
  "language_info": {
   "codemirror_mode": {
    "name": "ipython",
    "version": 3
   },
   "file_extension": ".py",
   "mimetype": "text/x-python",
   "name": "python",
   "nbconvert_exporter": "python",
   "pygments_lexer": "ipython3",
   "version": "3.9.10"
  }
 },
 "nbformat": 4,
 "nbformat_minor": 5
}
