{
  "nbformat": 4,
  "nbformat_minor": 0,
  "metadata": {
    "colab": {
      "name": "odometer.ipynb",
      "provenance": []
    },
    "kernelspec": {
      "name": "python3",
      "display_name": "Python 3"
    },
    "language_info": {
      "name": "python"
    }
  },
  "cells": [
    {
      "cell_type": "markdown",
      "metadata": {
        "id": "XHDWMqnViZce"
      },
      "source": [
        "# Odometer display\n",
        "\n",
        "Display a float as a mechanical odometer readout.\n",
        "\n",
        "Notes:\n",
        "\n",
        "* Intended for smooth animation but also for accurate readout of point values\n",
        "* Propagates rotational offsets to higher dials via a transfer function as lower dial rotates from ~9 back to 0 \n",
        "* Uses matplotlib to render an intermediate array of display digits and rotational offsets\n",
        "* Many parameters (defined as constants), but not extensively tested. Should be configurable but no guarantees\n"
      ]
    },
    {
      "cell_type": "markdown",
      "metadata": {
        "id": "vY2788TqjX-9"
      },
      "source": [
        "Utility methods"
      ]
    },
    {
      "cell_type": "code",
      "metadata": {
        "id": "PzKy4cqZnwKl"
      },
      "source": [
        "import numpy as np\n",
        "\n",
        "BASE = 10\n",
        "DIGITS = np.roll(np.arange(BASE), 1)\n",
        "WINDOW = 3\n",
        "\n",
        "def display_window(target):\n",
        "  return np.roll(DIGITS, -target)[:WINDOW]\n",
        "\n",
        "def ease_quart(x):\n",
        "  def ease_in(x):  return 8 * np.power(x, 4)\n",
        "  def ease_out(x): return 1 - np.power(-2 * x + 2, 4) / 2\n",
        "  return np.piecewise(x, [x < 0.5, x >= 0.5], [ease_in, ease_out])\n",
        "\n",
        "def transfer(x, start=0.85):\n",
        "  return np.piecewise(x,\n",
        "                      [x < start, x >= start],\n",
        "                      [0, lambda x: ease_quart((x - start) / (1 - start))])"
      ],
      "execution_count": 1,
      "outputs": []
    },
    {
      "cell_type": "markdown",
      "metadata": {
        "id": "ciu6w5rRmQmW"
      },
      "source": [
        "Return arrays of display digits and rotational offsets"
      ]
    },
    {
      "cell_type": "code",
      "metadata": {
        "id": "fQH6uI-uYPsv"
      },
      "source": [
        "OFFSET_FACTOR = 0.5\n",
        "\n",
        "def odometer_values(x, max_wheel, min_wheel):\n",
        "  offset = 0\n",
        "  dws = np.zeros((max_wheel - min_wheel, WINDOW), dtype=int)\n",
        "  offs = np.zeros(max_wheel - min_wheel)\n",
        "  for i in range(min_wheel, max_wheel):\n",
        "    # calculate nominal display digits and rotation offset\n",
        "    place = pow(BASE, i)\n",
        "    value = (x % place) / place\n",
        "    rotation = value * BASE\n",
        "    digit = int(rotation)\n",
        "    adjust = OFFSET_FACTOR * offset\n",
        "    remainder = (int(BASE * (rotation % 1)) + adjust) / BASE\n",
        "    offset = remainder if i == min_wheel else transfer(remainder)\n",
        "    # assign digits and offset\n",
        "    dws[i - min_wheel,:] = display_window(digit)\n",
        "    offs[i - min_wheel] = offset\n",
        "  return dws, offs"
      ],
      "execution_count": 2,
      "outputs": []
    },
    {
      "cell_type": "markdown",
      "metadata": {
        "id": "slnho7I4mm4n"
      },
      "source": [
        "Parameters for render"
      ]
    },
    {
      "cell_type": "code",
      "metadata": {
        "id": "BJ8Qg-kdSVFM"
      },
      "source": [
        "import math\n",
        "import matplotlib.pyplot as plt\n",
        "from matplotlib.patches import Rectangle\n",
        "\n",
        "plt.style.use('dark_background')\n",
        "\n",
        "WHEELS = 6\n",
        "BG_STEPS = 20\n",
        "DIGIT_HEIGHT = 3 * BG_STEPS / 2\n",
        "DIGIT_BASELINE = BG_STEPS / 4\n",
        "DIGIT_SPACING = DIGIT_HEIGHT / 2\n",
        "BG_SHADE_RANGE = 0.125\n",
        "BG_Y = np.linspace(-1, 1, BG_STEPS, endpoint=True)\n",
        "BG_V = np.cos(2 * math.pi * BG_SHADE_RANGE * BG_Y)\n",
        "BG_M = np.stack([BG_V] * WHEELS).T\n",
        "DIGIT_H_SHIFT = -1.2\n",
        "LINE_H_SHIFT = 0.7"
      ],
      "execution_count": 3,
      "outputs": []
    },
    {
      "cell_type": "markdown",
      "metadata": {
        "id": "mEuFPWDemqkH"
      },
      "source": [
        "Render into matplotlib axes"
      ]
    },
    {
      "cell_type": "code",
      "metadata": {
        "id": "-mkUICCju0u_"
      },
      "source": [
        "def plot_odometer(ax, values):\n",
        "  ax.imshow(BG_M, origin='lower', aspect=(1.0 / BG_STEPS), cmap=\"Greys\", vmin=0, vmax=1)\n",
        "  ax.axis('off')\n",
        "  dws = values[0]\n",
        "  offs = values[1]\n",
        "  for i in range(dws.shape[0]):\n",
        "    hpos = dws.shape[0] + DIGIT_H_SHIFT - i\n",
        "    vpos = DIGIT_BASELINE + DIGIT_SPACING * offs[i]\n",
        "    ax.text(hpos, vpos + DIGIT_SPACING, dws[i, 0], fontsize=DIGIT_HEIGHT, clip_on=True)\n",
        "    ax.text(hpos, vpos, dws[i, 1], fontsize=DIGIT_HEIGHT, clip_on=True)\n",
        "    ax.text(hpos, vpos - DIGIT_SPACING, dws[i, 2], fontsize=DIGIT_HEIGHT, clip_on=True)\n",
        "    if i > 0:\n",
        "      lpos = hpos + LINE_H_SHIFT\n",
        "      ax.plot([lpos, lpos], [0, BG_STEPS - 1], color='black')"
      ],
      "execution_count": 4,
      "outputs": []
    },
    {
      "cell_type": "markdown",
      "metadata": {
        "id": "73Kg30R0mwIh"
      },
      "source": [
        "Render a value"
      ]
    },
    {
      "cell_type": "code",
      "metadata": {
        "id": "bI4aAU4NgFtG"
      },
      "source": [
        "def odometer(ax, x, max_wheel=(WHEELS + 1), min_wheel=1):\n",
        "  return plot_odometer(ax, odometer_values(x, max_wheel, min_wheel))"
      ],
      "execution_count": 5,
      "outputs": []
    },
    {
      "cell_type": "code",
      "metadata": {
        "colab": {
          "base_uri": "https://localhost:8080/",
          "height": 124
        },
        "id": "ZcgLdysKqqcZ",
        "outputId": "09b4a294-3608-4714-98a2-080a6d8b7bcf"
      },
      "source": [
        "fig = plt.figure()\n",
        "ax = fig.add_subplot()\n",
        "odo_val = 1998.5\n",
        "odometer(ax, odo_val)\n",
        "print(f\"Odometer for {odo_val}\\n\")\n",
        "plt.show()"
      ],
      "execution_count": 6,
      "outputs": [
        {
          "output_type": "stream",
          "name": "stdout",
          "text": [
            "Odometer for 1998.5\n",
            "\n"
          ]
        },
        {
          "output_type": "display_data",
          "data": {
            "image/png": "[encoded data removed]",
            "text/plain": [
              "<Figure size 432x288 with 1 Axes>"
            ]
          },
          "metadata": {}
        }
      ]
    }
  ]
}