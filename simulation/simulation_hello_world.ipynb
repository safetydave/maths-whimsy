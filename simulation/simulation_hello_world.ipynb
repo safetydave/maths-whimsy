{
  "nbformat": 4,
  "nbformat_minor": 0,
  "metadata": {
    "colab": {
      "provenance": [],
      "collapsed_sections": []
    },
    "kernelspec": {
      "name": "python3",
      "display_name": "Python 3"
    },
    "language_info": {
      "name": "python"
    }
  },
  "cells": [
    {
      "cell_type": "markdown",
      "source": [
        "#Hello, simulated world!\n",
        "\n",
        "Simulation of a simple scenario to demonstrate how to structure a custom simulation project, based on a model of [lean simulator development](https://safetydave.net/leave-product-development-to-the-dummies-agile-australia/). We cover the following stages:\n",
        "\n",
        "1. Study of the real world\n",
        "2. Core algorithms\n",
        "3. Translation of performance and design\n",
        "4. Experimentation\n",
        "5. Translation of an environment\n",
        "6. Experimentation in noisy environments "
      ],
      "metadata": {
        "id": "NESTWZdzYkEO"
      }
    },
    {
      "cell_type": "code",
      "source": [
        "import matplotlib.pyplot as plt\n",
        "import numpy as np\n",
        "from scipy.optimize import minimize\n",
        "\n",
        "ANNUAL_FORTNIGHTS = 26"
      ],
      "metadata": {
        "id": "HqcjvPEAlqGM"
      },
      "execution_count": 1,
      "outputs": []
    },
    {
      "cell_type": "markdown",
      "source": [
        "## Study of the real world"
      ],
      "metadata": {
        "id": "KFgEpgx0i42N"
      }
    },
    {
      "cell_type": "markdown",
      "source": [
        "### A bank account\n",
        "\n",
        "To keep the core algorithms really simple - as befits a `Hello, World!` example - we will study how a bank account works. In our study, we recognise the essential features of a balance, deposits and withdrawals. The balance is increased by deposits and reduced by withdrawals."
      ],
      "metadata": {
        "id": "1qdoZf2Iinkw"
      }
    },
    {
      "cell_type": "code",
      "execution_count": 2,
      "metadata": {
        "id": "orYH1n5IYflb"
      },
      "outputs": [],
      "source": [
        "class Account:\n",
        "\n",
        "  def __init__(self):\n",
        "    self.balance = 0\n",
        "\n",
        "  def deposit(self, amount):\n",
        "    self.balance = self.balance + amount\n",
        "\n",
        "  def withdraw(self, amount):\n",
        "    self.balance = self.balance - amount"
      ]
    },
    {
      "cell_type": "markdown",
      "source": [
        "We can test that the balance behaves as expected in simple scenarios. These are examples of [point tests](https://www.thoughtworks.com/en-au/insights/blog/testing/practical-data-test-grid)."
      ],
      "metadata": {
        "id": "gUfIuytej5Dr"
      }
    },
    {
      "cell_type": "code",
      "source": [
        "def test_BalanceShouldEqualFirstDeposit():\n",
        "  account = Account()\n",
        "  amount = 10\n",
        "  account.deposit(amount)\n",
        "  return account.balance == amount"
      ],
      "metadata": {
        "id": "0HI41w7CZJJf"
      },
      "execution_count": 3,
      "outputs": []
    },
    {
      "cell_type": "code",
      "source": [
        "def test_BalanceShouldReflectTransactions():\n",
        "  account = Account()\n",
        "  d1, d2, w1 = 10, 20, 5\n",
        "  expected_balance = d1 + d2 - w1\n",
        "  account.deposit(d1)\n",
        "  account.deposit(d2)\n",
        "  account.withdraw(w1)\n",
        "  return account.balance == expected_balance  "
      ],
      "metadata": {
        "id": "naa754BIaDWg"
      },
      "execution_count": 4,
      "outputs": []
    },
    {
      "cell_type": "code",
      "source": [
        "test_BalanceShouldEqualFirstDeposit()"
      ],
      "metadata": {
        "colab": {
          "base_uri": "https://localhost:8080/"
        },
        "id": "GAJ54XJRZl6r",
        "outputId": "52e14460-5c0d-4e4e-ee31-ab37ad059445"
      },
      "execution_count": 5,
      "outputs": [
        {
          "output_type": "execute_result",
          "data": {
            "text/plain": [
              "True"
            ]
          },
          "metadata": {},
          "execution_count": 5
        }
      ]
    },
    {
      "cell_type": "code",
      "source": [
        "test_BalanceShouldReflectTransactions()"
      ],
      "metadata": {
        "colab": {
          "base_uri": "https://localhost:8080/"
        },
        "id": "NrHNXNhEarl_",
        "outputId": "a11f961a-361f-4a01-94fd-5f40421cdc7f"
      },
      "execution_count": 6,
      "outputs": [
        {
          "output_type": "execute_result",
          "data": {
            "text/plain": [
              "True"
            ]
          },
          "metadata": {},
          "execution_count": 6
        }
      ]
    },
    {
      "cell_type": "markdown",
      "source": [
        "## Core algorithms\n",
        "\n",
        "Core algorithms reproduce real world phenomena, in some domain, be it phyiscal processes, behaviour of agents, behaviours of systems, etc"
      ],
      "metadata": {
        "id": "_3-x3GB5Yrih"
      }
    },
    {
      "cell_type": "markdown",
      "source": [
        "### A simulated bank account\n",
        "\n",
        "We can simulate how our simple model of bank account will behave when we perform some set of transactions on it. In the realm of simulation, these are possible rather than actual transactions."
      ],
      "metadata": {
        "id": "PYQx2vGSi9d-"
      }
    },
    {
      "cell_type": "code",
      "source": [
        "def simulate_transaction(account, kind, amount):\n",
        "  if kind == 'd':\n",
        "    account.deposit(amount)\n",
        "  elif kind == 'w':\n",
        "    account.withdraw(amount)\n",
        "  else:\n",
        "    raise ValueError(\"kind must be 'd' or 'w'\")\n",
        "\n",
        "def simulate_balance(transactions):\n",
        "  account = Account()\n",
        "  balances = [account.balance]\n",
        "  for t in transactions:\n",
        "    simulate_transaction(account, t[0], t[1])\n",
        "    balances.append(account.balance)\n",
        "  return balances"
      ],
      "metadata": {
        "id": "x6lAJa7ibqVe"
      },
      "execution_count": 7,
      "outputs": []
    },
    {
      "cell_type": "markdown",
      "source": [
        "When we simulate the bank account, note that we are interested in caputing a fine-grained view of its behaviour and how it evolves (the sequence of balances), rather than just the final state. The final state can be extracted in the \"translation\" layer if required."
      ],
      "metadata": {
        "id": "HJuqATvLm7xN"
      }
    },
    {
      "cell_type": "code",
      "source": [
        "tx = [('d', 10), ('d', 20), ('w', 5)]\n",
        "sb = simulate_balance(tx)\n",
        "sb"
      ],
      "metadata": {
        "colab": {
          "base_uri": "https://localhost:8080/"
        },
        "id": "raCuUq3NdPCN",
        "outputId": "ba77f0ec-f63f-43ae-8699-d381e81d8e88"
      },
      "execution_count": 8,
      "outputs": [
        {
          "output_type": "execute_result",
          "data": {
            "text/plain": [
              "[0, 10, 30, 25]"
            ]
          },
          "metadata": {},
          "execution_count": 8
        }
      ]
    },
    {
      "cell_type": "markdown",
      "source": [
        "Visualisation is critical in simulator development - it helps to communicate function, understand results, validate and tune implementation and diagnose errors, at every stage of development and operation of a simulator."
      ],
      "metadata": {
        "id": "2yPPRZCQlX2F"
      }
    },
    {
      "cell_type": "code",
      "source": [
        "def visualise_balance(simulated_balance):\n",
        "  plt.plot(simulated_balance, '-o', c='lightseagreen')\n",
        "  plt.xticks(list(range(len(simulated_balance))))\n",
        "  plt.title('simulated balance by transaction')\n",
        "\n",
        "visualise_balance(sb)\n",
        "plt.show()"
      ],
      "metadata": {
        "colab": {
          "base_uri": "https://localhost:8080/",
          "height": 281
        },
        "id": "GKOxjdAjiaR1",
        "outputId": "b2188133-4d44-4bc8-f7df-0305ea9dfcce"
      },
      "execution_count": 9,
      "outputs": [
        {
          "output_type": "display_data",
          "data": {
            "text/plain": [
              "<Figure size 432x288 with 1 Axes>"
            ],
            "image/png": "[encoded data removed]"
          },
          "metadata": {
            "needs_background": "light"
          }
        }
      ]
    },
    {
      "cell_type": "markdown",
      "source": [
        "## Translation of performance and design\n",
        "\n",
        "A translation layer is where we add human intent and judgement to what was previously just a simplified [best attempt] objective reproduction of real observable phenomena. The translation layer allows people to specify high-level performance measures used to evaluate high-level system designs, while machines  simulate all the rich detail of a virtual world using the core algorithms."
      ],
      "metadata": {
        "id": "wYiOp8QDa1Hi"
      }
    },
    {
      "cell_type": "markdown",
      "source": [
        "### Performance"
      ],
      "metadata": {
        "id": "NNK3-PBJgt3z"
      }
    },
    {
      "cell_type": "markdown",
      "source": [
        "We decide for our `Hello, World!` example that this is a transactional account, and we care about keeping the balance close to a target balance, so that sufficient funds will be available but we don't leave too much money in a low interest account. We therefore measure performance as the average (mean) absolute difference between the balance at each transaction, and the target balance. This may be imperfect, but there are often trade-offs, so consider different performance measures in that case."
      ],
      "metadata": {
        "id": "3lgIapErozmG"
      }
    },
    {
      "cell_type": "code",
      "source": [
        "def translate_performance_TargetBalance(balances, target):\n",
        "  return sum([abs(b - target) for b in balances]) / len(balances)"
      ],
      "metadata": {
        "id": "vaF33EiogwVk"
      },
      "execution_count": 10,
      "outputs": []
    },
    {
      "cell_type": "markdown",
      "source": [
        "### Design"
      ],
      "metadata": {
        "id": "MFmInXCJgotf"
      }
    },
    {
      "cell_type": "markdown",
      "source": [
        "While we can make any arbitrary number of transactions and decide about each individual transaction, we consider that we can set up a fortnightly deposit schedule, and make one decision about the amount of that fortnightly deposit.\n",
        "\n",
        "We can translate this single design parameter into a list of every individual transaction, suitable for simulation by core algorithms."
      ],
      "metadata": {
        "id": "BWSwVE18qVwY"
      }
    },
    {
      "cell_type": "code",
      "source": [
        "def translate_design_FortnightlyDeposit(fortnightly_deposit):\n",
        "  return [('d', fortnightly_deposit)] * ANNUAL_FORTNIGHTS"
      ],
      "metadata": {
        "id": "Owsb595ZbGPf"
      },
      "execution_count": 11,
      "outputs": []
    },
    {
      "cell_type": "code",
      "source": [
        "translate_design_FortnightlyDeposit(10)[:5]"
      ],
      "metadata": {
        "colab": {
          "base_uri": "https://localhost:8080/"
        },
        "id": "p8A3HfMNfDnS",
        "outputId": "cb314190-6b90-4bc4-b9f8-85e966baaa4e"
      },
      "execution_count": 12,
      "outputs": [
        {
          "output_type": "execute_result",
          "data": {
            "text/plain": [
              "[('d', 10), ('d', 10), ('d', 10), ('d', 10), ('d', 10)]"
            ]
          },
          "metadata": {},
          "execution_count": 12
        }
      ]
    },
    {
      "cell_type": "code",
      "source": [
        "visualise_balance(simulate_balance(translate_design_FortnightlyDeposit(10)))\n",
        "plt.show()"
      ],
      "metadata": {
        "colab": {
          "base_uri": "https://localhost:8080/",
          "height": 281
        },
        "id": "130WNbBN6t0F",
        "outputId": "8e32bf8d-24e7-46ba-c68b-3886a04732a4"
      },
      "execution_count": 13,
      "outputs": [
        {
          "output_type": "display_data",
          "data": {
            "text/plain": [
              "<Figure size 432x288 with 1 Axes>"
            ],
            "image/png": "[encoded data removed]"
          },
          "metadata": {
            "needs_background": "light"
          }
        }
      ]
    },
    {
      "cell_type": "markdown",
      "source": [
        "### Performance = f(Design)"
      ],
      "metadata": {
        "id": "TLwU6EiAkaTI"
      }
    },
    {
      "cell_type": "markdown",
      "source": [
        "Now we can chain together human-relevant design -> design translation -> core algorithm simulation -> performance translation -> human-relevant performance measure."
      ],
      "metadata": {
        "id": "NboXIX8Q1p1u"
      }
    },
    {
      "cell_type": "code",
      "source": [
        "def performance_of_design(performance_parameter, design_parameter):\n",
        "  return translate_performance_TargetBalance(\n",
        "      simulate_balance(translate_design_FortnightlyDeposit(design_parameter)),\n",
        "      performance_parameter)"
      ],
      "metadata": {
        "id": "coGrqkhPluwB"
      },
      "execution_count": 14,
      "outputs": []
    },
    {
      "cell_type": "markdown",
      "source": [
        "We can evaluate the performance for a particular design"
      ],
      "metadata": {
        "id": "T_zuun4A7vt8"
      }
    },
    {
      "cell_type": "code",
      "source": [
        "des_par = 5\n",
        "perf_tgt = 100\n",
        "\n",
        "print(f'evaluating account balance target {perf_tgt} with fortnightly deposit {des_par}')\n",
        "print(f'the mean abs delta is {performance_of_design(100, 5):.2f}')"
      ],
      "metadata": {
        "colab": {
          "base_uri": "https://localhost:8080/"
        },
        "id": "HpXZPFpYnDbH",
        "outputId": "3c5c3d8f-01ca-4eca-a50a-dbde6abb99f6"
      },
      "execution_count": 15,
      "outputs": [
        {
          "output_type": "stream",
          "name": "stdout",
          "text": [
            "evaluating account balance target 100 with fortnightly deposit 5\n",
            "the mean abs delta is 42.78\n"
          ]
        }
      ]
    },
    {
      "cell_type": "markdown",
      "source": [
        "And we can produce visualisations of the simulated systems to illustrate that performance measure"
      ],
      "metadata": {
        "id": "41hRCONv7zdG"
      }
    },
    {
      "cell_type": "code",
      "source": [
        "visualise_balance(simulate_balance(translate_design_FortnightlyDeposit(10)))\n",
        "plt.plot([0, ANNUAL_FORTNIGHTS], [perf_tgt, perf_tgt], '--', color='turquoise')\n",
        "plt.text(0, perf_tgt + 5, 'target balance')\n",
        "plt.show()"
      ],
      "metadata": {
        "colab": {
          "base_uri": "https://localhost:8080/",
          "height": 281
        },
        "id": "rtSUGIcE7HSH",
        "outputId": "7e952f2b-55d1-49ef-9ce8-94219add33aa"
      },
      "execution_count": 16,
      "outputs": [
        {
          "output_type": "display_data",
          "data": {
            "text/plain": [
              "<Figure size 432x288 with 1 Axes>"
            ],
            "image/png": "[encoded data removed]"
          },
          "metadata": {
            "needs_background": "light"
          }
        }
      ]
    },
    {
      "cell_type": "markdown",
      "source": [
        "### Alternative design\n",
        "\n",
        "After visualising the result of our design against our performance measurem, an alternative design suggests itself. Instead of having just a fixed fortnightly deposit, we could make an initial large deposit, followed by smaller fortnightly deposits. "
      ],
      "metadata": {
        "id": "aM5m-X-LpzyV"
      }
    },
    {
      "cell_type": "code",
      "source": [
        "def translate_design_InitialAndFortnightlyDeposit(initial_deposit, fortnightly_deposit):\n",
        "  return [('d', initial_deposit)] + [('d', fortnightly_deposit)] * ANNUAL_FORTNIGHTS"
      ],
      "metadata": {
        "id": "-GTghf9HqUVm"
      },
      "execution_count": 17,
      "outputs": []
    },
    {
      "cell_type": "code",
      "source": [
        "des_par_1 = 90\n",
        "des_par_2 = 1\n",
        "\n",
        "visualise_balance(\n",
        "    simulate_balance(\n",
        "        translate_design_InitialAndFortnightlyDeposit(des_par_1, des_par_2)))\n",
        "plt.plot([0, ANNUAL_FORTNIGHTS], [perf_tgt, perf_tgt], '--', color='turquoise')\n",
        "plt.text(0, perf_tgt + 5, 'target balance')\n",
        "plt.show()"
      ],
      "metadata": {
        "colab": {
          "base_uri": "https://localhost:8080/",
          "height": 281
        },
        "id": "SeoyKNwRqiy6",
        "outputId": "d0f225b7-910e-4a49-d63b-f3186bf426d2"
      },
      "execution_count": 18,
      "outputs": [
        {
          "output_type": "display_data",
          "data": {
            "text/plain": [
              "<Figure size 432x288 with 1 Axes>"
            ],
            "image/png": "[encoded data removed]"
          },
          "metadata": {
            "needs_background": "light"
          }
        }
      ]
    },
    {
      "cell_type": "markdown",
      "source": [
        "# Experimentation\n",
        "\n",
        "Explore simulated results through the simple interface of `performance = function(design)`. Note that while `performance` and `design` are both single values (scalars) in our `Hello, World!` example, in general they would both consist of multiple, even hundreds of, parameters."
      ],
      "metadata": {
        "id": "x9ZuyppUmVCd"
      }
    },
    {
      "cell_type": "markdown",
      "source": [
        "### Exploration\n",
        "\n",
        "Vary design parameters and observe the effect on performance. This can be through regular sweeps or grid searches, interactive exploration, or other methods. Visualisation is again key to understand, calibrate and validate simulated behaviour."
      ],
      "metadata": {
        "id": "Szq1akbopWB2"
      }
    },
    {
      "cell_type": "code",
      "source": [
        "def performance_of_design_variants(target_balance, design_variants):\n",
        "  return [performance_of_design(target_balance, d) for d in design_variants]\n",
        "\n",
        "def visualise_performance_of_designs(performances, designs):\n",
        "  plt.plot(designs, performances, color='deeppink')\n",
        "  plt.xticks(designs)\n",
        "  plt.xlabel('design - fortnightly deposit amount')\n",
        "  plt.ylabel('performance - target balance delta')\n",
        "  plt.title('performance by design')\n",
        "\n",
        "design_sweep = list(range(16))\n",
        "performances = performance_of_design_variants(100, design_sweep)\n",
        "visualise_performance_of_designs(performances, design_sweep)\n",
        "plt.show()"
      ],
      "metadata": {
        "colab": {
          "base_uri": "https://localhost:8080/",
          "height": 295
        },
        "id": "Itm9NWBrkjZQ",
        "outputId": "6591186c-8f8d-42d5-9ca0-ad65ceadea61"
      },
      "execution_count": 19,
      "outputs": [
        {
          "output_type": "display_data",
          "data": {
            "text/plain": [
              "<Figure size 432x288 with 1 Axes>"
            ],
            "image/png": "[encoded data removed]"
          },
          "metadata": {
            "needs_background": "light"
          }
        }
      ]
    },
    {
      "cell_type": "markdown",
      "source": [
        "### Optimisation"
      ],
      "metadata": {
        "id": "geFwLH9PpaUc"
      }
    },
    {
      "cell_type": "markdown",
      "source": [
        "Automate the exploration of the design space by machines to find the designs that produce optimal performance. `scipy.optimize.minimize()` is a simple method to optimise a function."
      ],
      "metadata": {
        "id": "fgaJCrSC5MKq"
      }
    },
    {
      "cell_type": "code",
      "source": [
        "minimum_design = minimize(lambda x: performance_of_design(perf_tgt, x), [3]).x"
      ],
      "metadata": {
        "id": "YtO-rsS4pbu4"
      },
      "execution_count": 20,
      "outputs": []
    },
    {
      "cell_type": "markdown",
      "source": [
        "We can visualise the optimal design in the context of our previous parameter sweep."
      ],
      "metadata": {
        "id": "Ugvgtqfu6X-8"
      }
    },
    {
      "cell_type": "code",
      "source": [
        "visualise_performance_of_designs(performances, design_sweep)\n",
        "plt.scatter([minimum_design], [performance_of_design(100, minimum_design)], color='deeppink')\n",
        "plt.text(minimum_design + 1, performance_of_design(100, minimum_design) - 1, 'optimal design')\n",
        "plt.show()"
      ],
      "metadata": {
        "colab": {
          "base_uri": "https://localhost:8080/",
          "height": 295
        },
        "id": "AcTTW51vtctc",
        "outputId": "a5045c85-ead5-4a8b-ba29-814707562601"
      },
      "execution_count": 21,
      "outputs": [
        {
          "output_type": "display_data",
          "data": {
            "text/plain": [
              "<Figure size 432x288 with 1 Axes>"
            ],
            "image/png": "[encoded data removed]"
          },
          "metadata": {
            "needs_background": "light"
          }
        }
      ]
    },
    {
      "cell_type": "markdown",
      "source": [
        "## Include environment"
      ],
      "metadata": {
        "id": "8pHjFlFeuV-m"
      }
    },
    {
      "cell_type": "markdown",
      "source": [
        "The example so far assumes we have complete control of the inputs to the system. This is rarely the case in the real world. This section introduces environmental factors that we track - but consider out of our control - into the simulation."
      ],
      "metadata": {
        "id": "RhCSX49G6ftM"
      }
    },
    {
      "cell_type": "markdown",
      "source": [
        "### Translation layer\n",
        "\n",
        "Environmental factors identified by humans need to be translated for simulation by core algorithms. In this case, we have a random fortnightly expense that represents a withdrawal from the account."
      ],
      "metadata": {
        "id": "2ZGlU4kHu8w-"
      }
    },
    {
      "cell_type": "code",
      "source": [
        "def translate_environment_FortnightlyRandomWithdrawal(seed=42, high=5):\n",
        "  rng = np.random.RandomState(seed)\n",
        "  random_withdrawals = rng.randint(0, high=high, size=ANNUAL_FORTNIGHTS)\n",
        "  return list(zip(['w'] * ANNUAL_FORTNIGHTS, random_withdrawals))\n",
        "\n",
        "translate_environment_FortnightlyRandomWithdrawal()[:5]"
      ],
      "metadata": {
        "colab": {
          "base_uri": "https://localhost:8080/"
        },
        "id": "lWSGg6Aaua16",
        "outputId": "d26b62e7-9a48-4598-b4d6-3c782484eaf1"
      },
      "execution_count": 22,
      "outputs": [
        {
          "output_type": "execute_result",
          "data": {
            "text/plain": [
              "[('w', 3), ('w', 4), ('w', 2), ('w', 4), ('w', 4)]"
            ]
          },
          "metadata": {},
          "execution_count": 22
        }
      ]
    },
    {
      "cell_type": "code",
      "source": [
        "visualise_balance(simulate_balance(translate_environment_FortnightlyRandomWithdrawal()))\n",
        "plt.show()"
      ],
      "metadata": {
        "colab": {
          "base_uri": "https://localhost:8080/",
          "height": 281
        },
        "id": "i1JGWTtz8rq_",
        "outputId": "868881d0-1784-4753-85c1-95ea23fe4e53"
      },
      "execution_count": 23,
      "outputs": [
        {
          "output_type": "display_data",
          "data": {
            "text/plain": [
              "<Figure size 432x288 with 1 Axes>"
            ],
            "image/png": "[encoded data removed]"
          },
          "metadata": {
            "needs_background": "light"
          }
        }
      ]
    },
    {
      "cell_type": "markdown",
      "source": [
        "Now we translate design decisions and environmental factors together into the inputs for the simulation core algorithms"
      ],
      "metadata": {
        "id": "1ynki7E4831p"
      }
    },
    {
      "cell_type": "code",
      "source": [
        "def translate_design_and_environment(design_parameter):\n",
        "  interleaved = zip(translate_environment_FortnightlyRandomWithdrawal(),\n",
        "                    translate_design_FortnightlyDeposit(design_parameter))\n",
        "  return [val for pair in interleaved for val in pair]\n",
        "\n",
        "translate_design_and_environment(10)[:10]"
      ],
      "metadata": {
        "colab": {
          "base_uri": "https://localhost:8080/"
        },
        "id": "_V-_Vm7Ww7gW",
        "outputId": "9388389b-81b5-48ac-ee36-6e747c3a072e"
      },
      "execution_count": 24,
      "outputs": [
        {
          "output_type": "execute_result",
          "data": {
            "text/plain": [
              "[('w', 3),\n",
              " ('d', 10),\n",
              " ('w', 4),\n",
              " ('d', 10),\n",
              " ('w', 2),\n",
              " ('d', 10),\n",
              " ('w', 4),\n",
              " ('d', 10),\n",
              " ('w', 4),\n",
              " ('d', 10)]"
            ]
          },
          "metadata": {},
          "execution_count": 24
        }
      ]
    },
    {
      "cell_type": "code",
      "source": [
        "plt.figure(figsize=(12, 4))\n",
        "visualise_balance(simulate_balance(translate_design_and_environment(10)))\n",
        "plt.show()"
      ],
      "metadata": {
        "colab": {
          "base_uri": "https://localhost:8080/",
          "height": 281
        },
        "id": "hdtI4qlb9V0S",
        "outputId": "8f5098d5-621c-420e-a1b3-2e72e5f58ef6"
      },
      "execution_count": 25,
      "outputs": [
        {
          "output_type": "display_data",
          "data": {
            "text/plain": [
              "<Figure size 864x288 with 1 Axes>"
            ],
            "image/png": "[encoded data removed]"
          },
          "metadata": {
            "needs_background": "light"
          }
        }
      ]
    },
    {
      "cell_type": "markdown",
      "source": [
        "And with this translation, we can evaluate the performance of a design in a given environment. Note that the performance measure is different and worse to the previous evaluation in an environment with no withdrawals."
      ],
      "metadata": {
        "id": "80-NLRXS9SjO"
      }
    },
    {
      "cell_type": "code",
      "source": [
        "def performance_of_design_in_environment(performance_parameter, design_parameter):\n",
        "  return translate_performance_TargetBalance(\n",
        "      simulate_balance(translate_design_and_environment(design_parameter)),\n",
        "      performance_parameter)\n",
        "\n",
        "performance_of_design_in_environment(perf_tgt, des_par)\n",
        "\n",
        "print(f'evaluating account balance target {perf_tgt} with fortnightly deposit {des_par} with random withdrawal environment')\n",
        "print(f'the mean abs delta is {performance_of_design_in_environment(perf_tgt, des_par):.2f}')"
      ],
      "metadata": {
        "colab": {
          "base_uri": "https://localhost:8080/"
        },
        "id": "KNRnkPkJyE6Z",
        "outputId": "dde16fb9-629c-4810-e225-68dc18ce4075"
      },
      "execution_count": 26,
      "outputs": [
        {
          "output_type": "stream",
          "name": "stdout",
          "text": [
            "evaluating account balance target 100 with fortnightly deposit 5 with random withdrawal environment\n",
            "the mean abs delta is 71.32\n"
          ]
        }
      ]
    },
    {
      "cell_type": "markdown",
      "source": [
        "## Experimentation in noisy environments"
      ],
      "metadata": {
        "id": "fCbbQjP8yhWZ"
      }
    },
    {
      "cell_type": "markdown",
      "source": [
        "The environment we created is noisy - it has non-deterministic values. To properly evaluate a design in this environment, we would need to run multiple trials. I plan to add an example of this, but it's left as an exercise to the reader for now."
      ],
      "metadata": {
        "id": "TDlXepdnym2j"
      }
    },
    {
      "cell_type": "markdown",
      "source": [
        "## Conclusion"
      ],
      "metadata": {
        "id": "Zzny9ZcaJ-PA"
      }
    },
    {
      "cell_type": "markdown",
      "source": [
        "Final thought. Simulation scenarios become arbitrarily complex. We first validate the behaviour in the simplest point scenarios that have analytic solutions, as above. We can then calibrate against more complex real world scenarios, but when we are sufficiently confident the core algorithms are correct, we accept that the simulation produces the most definitive result for the most complex or novel scenarios. Most of the work is then in translating human judgements about design choices and relevant performance measures into a form suitable for exploration and simulation."
      ],
      "metadata": {
        "id": "zy2Qih_Fl8nd"
      }
    }
  ]
}