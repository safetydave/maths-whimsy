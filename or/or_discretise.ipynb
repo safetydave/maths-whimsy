{
 "cells": [
  {
   "cell_type": "markdown",
   "id": "53d8d378-9fdb-445c-b79e-f9fded52d35e",
   "metadata": {},
   "source": [
    "# Optimisation zones"
   ]
  },
  {
   "cell_type": "markdown",
   "id": "e3be187a-04a3-4bca-9aa3-dd9a3136d74e",
   "metadata": {},
   "source": [
    "Create a collection of boolean \"zones\" (intervals) to cover the domain of a \"continuous\" optimisation variable.\n",
    "Sum the zones to reconstruct the bounding interval for the continuous value."
   ]
  },
  {
   "cell_type": "code",
   "execution_count": 1,
   "id": "5d4be713-da70-4791-a214-fa2956fd5703",
   "metadata": {},
   "outputs": [],
   "source": [
    "from ortools.sat.python import cp_model\n",
    "import random"
   ]
  },
  {
   "cell_type": "code",
   "execution_count": 31,
   "id": "b3fe5b03-ee6a-46b8-985e-c8ae73fbd294",
   "metadata": {},
   "outputs": [],
   "source": [
    "model = cp_model.CpModel()\n",
    "n = 10\n",
    "resolution = 10000"
   ]
  },
  {
   "cell_type": "markdown",
   "id": "2879e042-39a4-4d1f-8467-8ccef18569a2",
   "metadata": {},
   "source": [
    "Proxy continuous variable and some arbitrary constraints"
   ]
  },
  {
   "cell_type": "code",
   "execution_count": 32,
   "id": "ca0eb61c-f154-4751-9cc8-c851b36edbcc",
   "metadata": {},
   "outputs": [],
   "source": [
    "floats = [model.NewIntVar(0, resolution, f\"f_{i}\") for i in range(n)]\n",
    "model.Add(sum(floats) == 40000)\n",
    "for i in random.sample(range(n), 3):\n",
    "    model.Add(floats[i] < 7000)\n",
    "for i in random.sample(range(n), 3):\n",
    "    model.Add(floats[i] > 3000)"
   ]
  },
  {
   "cell_type": "markdown",
   "id": "47fb2b44-fdcb-4937-9274-fe38af33eb21",
   "metadata": {},
   "source": [
    "Define the zones, in this case 10 zones"
   ]
  },
  {
   "cell_type": "code",
   "execution_count": 33,
   "id": "172cf54d-dd67-4104-a8ed-7d1f31becd99",
   "metadata": {},
   "outputs": [],
   "source": [
    "w = 10\n",
    "zones = [[model.NewBoolVar(f\"z_{i}_{z}\") for z in range(w)] for i in range(n)] \n",
    "for i in range(n):\n",
    "    for z in range(w):\n",
    "        model.Add(floats[i] > z * resolution // w).OnlyEnforceIf(zones[i][w - z - 1])\n",
    "        model.Add(floats[i] <= z * resolution // w).OnlyEnforceIf(zones[i][w - z - 1].Not())"
   ]
  },
  {
   "cell_type": "markdown",
   "id": "f4930dc2-73af-432a-b121-8ccd77b1b0b0",
   "metadata": {},
   "source": [
    "Demonstrate the zones match continuous values and bounding interval can be reconstructed"
   ]
  },
  {
   "cell_type": "code",
   "execution_count": 38,
   "id": "7400bbc4-4a28-4a4c-bb53-7a478c145109",
   "metadata": {},
   "outputs": [
    {
     "name": "stdout",
     "output_type": "stream",
     "text": [
      "solution 4\n",
      "continous [10000, 10000, 6999, 6999, 0, 3001, 3001, 0, 0, 0]\n",
      "zones [[1, 1, 1, 1, 1, 1, 1, 1, 1, 1], [1, 1, 1, 1, 1, 1, 1, 1, 1, 1], [0, 0, 0, 1, 1, 1, 1, 1, 1, 1], [0, 0, 0, 1, 1, 1, 1, 1, 1, 1], [0, 0, 0, 0, 0, 0, 0, 0, 0, 0], [0, 0, 0, 0, 0, 0, 1, 1, 1, 1], [0, 0, 0, 0, 0, 0, 1, 1, 1, 1], [0, 0, 0, 0, 0, 0, 0, 0, 0, 0], [0, 0, 0, 0, 0, 0, 0, 0, 0, 0], [0, 0, 0, 0, 0, 0, 0, 0, 0, 0]]\n",
      "reconstructed [(90000, 100000), (90000, 100000), (60000, 70000), (60000, 70000), (0, 0), (30000, 40000), (30000, 40000), (0, 0), (0, 0), (0, 0)]\n"
     ]
    }
   ],
   "source": [
    "solver = cp_model.CpSolver()\n",
    "status = solver.solve(model)\n",
    "print(\"solution\", status)\n",
    "if status == cp_model.OPTIMAL or status == cp_model.FEASIBLE:\n",
    "    float_solution = [solver.value(f) for f in floats]\n",
    "    zones_solution = [[solver.value(z) for z in zs] for zs in zones]\n",
    "    print(\"continous\", float_solution)\n",
    "    print(\"zones\", zones_solution)\n",
    "    print(\"reconstructed\", [(max(0, resolution * (sum(zs) - 1)), resolution * sum(zs)) for zs in zones_solution])"
   ]
  },
  {
   "cell_type": "code",
   "execution_count": null,
   "id": "7ea5c76c-2326-4325-a402-7d9be924ca2c",
   "metadata": {},
   "outputs": [],
   "source": []
  }
 ],
 "metadata": {
  "kernelspec": {
   "display_name": "Python 3 (ipykernel)",
   "language": "python",
   "name": "python3"
  },
  "language_info": {
   "codemirror_mode": {
    "name": "ipython",
    "version": 3
   },
   "file_extension": ".py",
   "mimetype": "text/x-python",
   "name": "python",
   "nbconvert_exporter": "python",
   "pygments_lexer": "ipython3",
   "version": "3.10.2"
  }
 },
 "nbformat": 4,
 "nbformat_minor": 5
}
