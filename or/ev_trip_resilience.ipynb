{
 "cells": [
  {
   "cell_type": "markdown",
   "id": "f6108802-a229-476d-b927-4f0434e3ae36",
   "metadata": {},
   "source": [
    "# EV trip resilience 🪫🚙🔋\n",
    "\n",
    "Exploring resilient EV trip planning. How can we plan to efficiently accommodate faulty chargers?"
   ]
  },
  {
   "cell_type": "markdown",
   "id": "e5c42c38-f8f0-4880-b8bc-69c38b768093",
   "metadata": {
    "tags": []
   },
   "source": [
    "## Setup"
   ]
  },
  {
   "cell_type": "markdown",
   "id": "130dd63a-c9dd-451c-8893-b0fccf19d535",
   "metadata": {},
   "source": [
    "We use these modules and classes. Some fields and units are optional, which will need attention when real data is used."
   ]
  },
  {
   "cell_type": "code",
   "execution_count": 1,
   "id": "e48497a4-4e53-4aa4-844a-9f18975a655b",
   "metadata": {},
   "outputs": [],
   "source": [
    "import bisect\n",
    "import itertools\n",
    "import matplotlib.pyplot as plt\n",
    "import numpy as np\n",
    "from ortools.sat.python import cp_model\n",
    "\n",
    "from shapely import distance, Point\n",
    "from shapely.plotting import plot_line, plot_points, plot_polygon\n",
    "from shapely.geometry import LineString\n",
    "from shapely.ops import nearest_points"
   ]
  },
  {
   "cell_type": "code",
   "execution_count": 2,
   "id": "33587b9e-2526-4965-92d7-051f929794da",
   "metadata": {},
   "outputs": [],
   "source": [
    "class EVehicle:\n",
    "    def __init__(self, ev_range=12, capacity=5, mass=2500):\n",
    "        self.ev_range = ev_range\n",
    "        self.capacity = capacity\n",
    "        self.mass = mass\n",
    "        \n",
    "    def set_soc(self, soc):\n",
    "        self.soc = soc"
   ]
  },
  {
   "cell_type": "code",
   "execution_count": 3,
   "id": "30d15fd9-ee00-4322-870f-ddbc44c61f85",
   "metadata": {},
   "outputs": [],
   "source": [
    "class Charger():\n",
    "    def __init__(self, location=Point(0, 7), power=50, amenity=50):\n",
    "        self.location = location\n",
    "        self.power = power\n",
    "        self.amenity = amenity\n",
    "\n",
    "class RoutePoint():\n",
    "    def __init__(self, location):\n",
    "        self.location = location"
   ]
  },
  {
   "cell_type": "code",
   "execution_count": 4,
   "id": "8c58944e-16fa-4a88-9d62-94edf4b16617",
   "metadata": {},
   "outputs": [],
   "source": [
    "class Route:\n",
    "    def __init__(self, locations=[Point(0, 0), Point(0, 10)]):\n",
    "        self.nodes = [RoutePoint(l) for l in locations]\n",
    "        self.calculate()\n",
    "            \n",
    "    def locations(self):\n",
    "        return [p.location for p in self.nodes]\n",
    "\n",
    "    def calculate(self):\n",
    "        self.path = LineString(self.locations())\n",
    "        # Todo - better with project points & diff?\n",
    "        self.legs = [int(round(distance(a, b))) for a, b in zip(self.locations()[:-1], self.locations()[1:])]\n",
    "        self.cums = np.cumsum(self.legs, dtype=int)\n",
    "    \n",
    "    def add_charger(self, c):\n",
    "        # create a new point on the route when we add a charger\n",
    "        projection_dist = self.path.project(c.location)\n",
    "        leg = 1 + bisect.bisect_left(self.cums, projection_dist)\n",
    "        self.nodes.insert(leg, c)\n",
    "        self.calculate()\n",
    "    \n",
    "    def add_chargers(self, cs):\n",
    "        for c in cs:\n",
    "            self.add_charger(c)\n",
    "            \n",
    "    def chargers(self):\n",
    "        return [n for n in self.nodes if isinstance(n, Charger)]\n",
    "    \n",
    "    def can_charge(self, point_i):\n",
    "        return isinstance(self.nodes[point_i], Charger)"
   ]
  },
  {
   "cell_type": "markdown",
   "id": "183c8b12-bbee-4fdb-9e58-f30409b0192b",
   "metadata": {
    "tags": []
   },
   "source": [
    "## Simulate & visualise"
   ]
  },
  {
   "cell_type": "markdown",
   "id": "4ef2eef5-0fc6-46b4-ac42-8fa2cf09fdf7",
   "metadata": {},
   "source": [
    "These methods simulate a trip plan and visualise the resultant trip. Plenty of scope to improve, not least eliminating magic numbers."
   ]
  },
  {
   "cell_type": "code",
   "execution_count": 5,
   "id": "3799ea1e-46ff-4be8-929a-f38bba695afd",
   "metadata": {},
   "outputs": [],
   "source": [
    "def simulate(ev, route, charge):\n",
    "    arr_flowers = []\n",
    "    dep_flowers = []\n",
    "    total_charge_time = 0\n",
    "    i = 0\n",
    "    j = 0\n",
    "    dep_flowers.append((route.locations()[i], ev.soc * ev.ev_range))\n",
    "    while(i < len(r.nodes) - 1 and ev.soc * ev.ev_range >= route.legs[i]):\n",
    "        soc_consumed = route.legs[i] / ev.ev_range\n",
    "        soc_arrival = ev.soc - soc_consumed\n",
    "        arr_flowers.append((route.locations()[i + 1], soc_arrival * ev.ev_range))\n",
    "        soc_departure = soc_arrival\n",
    "        if route.can_charge(i + 1):\n",
    "            if charge[j] > 0:\n",
    "                soc_departure = soc_arrival + (charge[j] / 100.0)\n",
    "                charge_amount = (soc_departure - soc_arrival) * ev.capacity\n",
    "                charger_power = route.nodes[i + 1].power\n",
    "                charge_time = 100 * charge_amount / charger_power\n",
    "                total_charge_time = total_charge_time + charge_time + 0.1\n",
    "                dep_flowers.append((route.locations()[i + 1], soc_departure * ev.ev_range))\n",
    "            j = j + 1\n",
    "        ev.set_soc(soc_departure)\n",
    "        i = i + 1\n",
    "    unreachable = route.locations()[i + 1:]\n",
    "    return arr_flowers, dep_flowers, unreachable, total_charge_time"
   ]
  },
  {
   "cell_type": "code",
   "execution_count": 6,
   "id": "04d85715-b7dd-4f8b-ab80-91e2babddc3c",
   "metadata": {
    "tags": []
   },
   "outputs": [],
   "source": [
    "def visualise(flowers, ev, route, charge, title='TRIP PLAN'):\n",
    "    fig = plt.figure(1, figsize=(4.5,6))\n",
    "    plt.xlim(-6, 12)\n",
    "    plt.ylim(-9, 15)\n",
    "    plt.axis('off')\n",
    "    ax = plt.gca()\n",
    "    fig.patch.set_facecolor('white')\n",
    "    fig.patch.set_edgecolor('black')\n",
    "    plt.text(6, 0, 'depart', verticalalignment='center')\n",
    "    if len(flowers[2]) == 0:\n",
    "        plt.text(6, 10, f'arrive {int(ev.soc * 100)}%', verticalalignment='center')\n",
    "    else:\n",
    "        plt.text(6, 10, f'unreachable', verticalalignment='center')\n",
    "    for i, c in enumerate(charge):\n",
    "        y = route.chargers()[i].location.y\n",
    "        if c > 0:\n",
    "            plt.text(6, y, f'charge {charge[i]:.0f}%', verticalalignment='center', color='xkcd:orange')\n",
    "            plt.plot([1, 5], [y, y], color='darkorange', linestyle=':') \n",
    "        else:\n",
    "            plt.text(6, route.chargers()[i].location.y, f'skip', verticalalignment='center', color='teal')\n",
    "    plot_line(r.path, ax=ax, color='teal')\n",
    "    for f in flowers[0]:\n",
    "        if (f[1] > 0.01):\n",
    "            plot_polygon(f[0].buffer(f[1]), ax=ax, add_points=False, color='teal')\n",
    "    for f in flowers[1]:\n",
    "        if (f[1] > 0.01):\n",
    "            plot_polygon(f[0].buffer(f[1]), ax=ax, add_points=False, color='darkorange')\n",
    "    plt.title(title + f' (time {flowers[3]:0.1f})')\n",
    "    plt.show()"
   ]
  },
  {
   "cell_type": "markdown",
   "id": "b4f806ad-d049-4a54-87e9-449e34f7aab9",
   "metadata": {},
   "source": [
    "## Test scenario"
   ]
  },
  {
   "cell_type": "markdown",
   "id": "d56358ea-a004-48e2-84b2-485582b6ecd1",
   "metadata": {},
   "source": [
    "This scenario includes a vehicle and a route with chargers"
   ]
  },
  {
   "cell_type": "code",
   "execution_count": 7,
   "id": "72f315c8-8e6b-452c-884c-a22bdc18f2a4",
   "metadata": {},
   "outputs": [],
   "source": [
    "ev = EVehicle(ev_range=5)\n",
    "r = Route(locations=[Point(0, 0), Point(0, 10)])\n",
    "c1 = Charger(location=Point(0, 3), power=50)\n",
    "c2 = Charger(location=Point(0, 4), power=100)\n",
    "c3 = Charger(location=Point(0, 7), power=250)\n",
    "c4 = Charger(location=Point(0, 8), power=250)\n",
    "cs = [c1, c2, c3, c4]\n",
    "r.add_chargers(cs)"
   ]
  },
  {
   "cell_type": "markdown",
   "id": "c0cc374a-45d6-44fa-a629-ed4a4232fb26",
   "metadata": {},
   "source": [
    "An initial SOC and charge pattern define a trip plan"
   ]
  },
  {
   "cell_type": "code",
   "execution_count": 8,
   "id": "9eef1af7-97cb-401e-a9bd-62e9dd5a5dfa",
   "metadata": {},
   "outputs": [
    {
     "data": {
      "image/png": "[encoded data removed]",
      "text/plain": [
       "<Figure size 324x432 with 1 Axes>"
      ]
     },
     "metadata": {},
     "output_type": "display_data"
    }
   ],
   "source": [
    "ev.set_soc(1)\n",
    "charge = [60, 0, 41, 0]\n",
    "flowers = simulate(ev, r, charge)\n",
    "visualise(flowers, ev, r, charge)"
   ]
  },
  {
   "cell_type": "markdown",
   "id": "fc901f96-f79c-4a70-8c30-a6c4aba43dac",
   "metadata": {},
   "source": [
    "## Optimisation"
   ]
  },
  {
   "cell_type": "markdown",
   "id": "e615c56b-a1ff-4d3f-8175-08931aae6824",
   "metadata": {},
   "source": [
    "### Model definition, base trip constraints, and objective"
   ]
  },
  {
   "cell_type": "code",
   "execution_count": 9,
   "id": "6d6476b8-ec38-4906-bd04-5a749460cee1",
   "metadata": {},
   "outputs": [],
   "source": [
    "def define_variables(model, chargers):\n",
    "    indexes = range(len(chargers))\n",
    "    arrivals = [model.NewIntVar(0, 100, f\"a{i}\") for i in indexes]\n",
    "    fills = [model.NewIntVar(0, 100, f\"f{i}\") for i in indexes]                    \n",
    "    stops = [model.NewBoolVar(f\"s{i}\") for i in indexes]\n",
    "    return arrivals, fills, stops"
   ]
  },
  {
   "cell_type": "markdown",
   "id": "82887464-1048-42ba-9671-b8cae3489be0",
   "metadata": {},
   "source": [
    "Some factors will need attention to units/scaling in future"
   ]
  },
  {
   "cell_type": "code",
   "execution_count": 10,
   "id": "5ba1d2ad-ac51-4ef1-bde0-b6bce763de2a",
   "metadata": {},
   "outputs": [],
   "source": [
    "def define_base_constraints(model, arrivals, fills, stops, ev, route, origin_soc=100):\n",
    "    nc = len(fills)\n",
    "    # fill > 0 means stop\n",
    "    for f, s in zip(fills, stops):\n",
    "        model.Add(f > 0).OnlyEnforceIf(s)\n",
    "        model.Add(f == 0).OnlyEnforceIf(s.Not())\n",
    "    \n",
    "    # can't have > 100 soc\n",
    "    for a, f in zip(arrivals, fills):\n",
    "        model.Add(a + f <= 100)\n",
    "\n",
    "    # arrival soc must match previous departure and consumption between\n",
    "    model.Add(arrivals[0] * ev.ev_range == (ev.ev_range - route.legs[0]) * 100)\n",
    "    for i in range(1, nc):\n",
    "        model.Add(arrivals[i] * ev.ev_range == (arrivals[i-1] + fills[i-1]) * ev.ev_range - route.legs[i] * 100)\n",
    "    model.Add((arrivals[nc-1] + fills[nc-1] - 1) * ev.ev_range >= route.legs[nc] * 100)"
   ]
  },
  {
   "cell_type": "code",
   "execution_count": 11,
   "id": "ae41fe87-3f71-48da-9e57-4f5d9a6fdeb8",
   "metadata": {},
   "outputs": [],
   "source": [
    "model = cp_model.CpModel()"
   ]
  },
  {
   "cell_type": "code",
   "execution_count": 12,
   "id": "592a126d-4eb8-44cd-91c7-0c9f738325da",
   "metadata": {},
   "outputs": [],
   "source": [
    "arrivals, fills, stops = define_variables(model, cs)"
   ]
  },
  {
   "cell_type": "code",
   "execution_count": 13,
   "id": "c16bb88e-392d-4b55-b6f2-06be03906bf0",
   "metadata": {},
   "outputs": [],
   "source": [
    "define_base_constraints(model, arrivals, fills, stops, ev, r)"
   ]
  },
  {
   "cell_type": "code",
   "execution_count": 14,
   "id": "c869287d-7cbe-4c0a-baae-f90de1628e20",
   "metadata": {},
   "outputs": [],
   "source": [
    "# objective: minimise filling time\n",
    "model.Minimize(sum([f * int(1000 * ev.capacity / cs[i].power) for i, f in enumerate(fills)]) \\\n",
    "             + sum(stops) * 100)"
   ]
  },
  {
   "cell_type": "markdown",
   "id": "e93f14a0-c576-4aa8-bb58-0145979c285b",
   "metadata": {},
   "source": [
    "### Additional resilience constraints"
   ]
  },
  {
   "cell_type": "markdown",
   "id": "5ee7cbb8-3fe8-4d5a-8a8c-2db4a857fd10",
   "metadata": {},
   "source": [
    "Enable or disable constraints below. These will also need attention to units/scaling."
   ]
  },
  {
   "cell_type": "code",
   "execution_count": 15,
   "id": "a9e6aeca-627f-4e7c-8a76-e649043c9d4a",
   "metadata": {},
   "outputs": [
    {
     "data": {
      "text/plain": [
       "<ortools.sat.python.cp_model.Constraint at 0x11f432a10>"
      ]
     },
     "execution_count": 15,
     "metadata": {},
     "output_type": "execute_result"
    }
   ],
   "source": [
    "# constraint: arrive destination with more than 20% soc\n",
    "dest_soc = 0.2\n",
    "model.Add((arrivals[len(cs)-1] + fills[len(cs)-1]) * ev.ev_range >= (int(ev.ev_range * dest_soc) + r.legs[len(cs)]) * 100)"
   ]
  },
  {
   "cell_type": "code",
   "execution_count": 16,
   "id": "a18455fa-0a7d-4531-b56c-646d7fe53ae7",
   "metadata": {},
   "outputs": [],
   "source": [
    "# constraint: arrive each charger with more than 20% soc\n",
    "#for a in arrivals:\n",
    "#    model.Add(a >= 20)"
   ]
  },
  {
   "cell_type": "code",
   "execution_count": 17,
   "id": "ca3637d4-c8f9-4313-b5c2-df8d4f822b1b",
   "metadata": {},
   "outputs": [],
   "source": [
    "# constraint: leave charger with enough to get to next + 1\n",
    "for i, (a, f) in enumerate(zip(arrivals[:-1], fills[:-1])):\n",
    "    model.Add((a + f) * ev.ev_range >= (r.legs[i] + r.legs[i+1]) * 100)"
   ]
  },
  {
   "cell_type": "code",
   "execution_count": 18,
   "id": "eab23a0f-945a-493a-aa88-da7ea2053868",
   "metadata": {},
   "outputs": [],
   "source": [
    "# constraint: leave charger with enough to return to previous\n",
    "#for i, (a, f) in enumerate(zip(arrivals, fills)):\n",
    "#    model.Add((a + f) * ev.ev_range >= r.legs[i] * 100)"
   ]
  },
  {
   "cell_type": "markdown",
   "id": "14852414-9b05-471f-aa87-d11594d7e0d7",
   "metadata": {},
   "source": [
    "### Solve and visualise optimal plan"
   ]
  },
  {
   "cell_type": "code",
   "execution_count": 19,
   "id": "27752baf-dc98-4a26-91fb-af0703818386",
   "metadata": {},
   "outputs": [],
   "source": [
    "solver = cp_model.CpSolver()\n",
    "status = solver.solve(model)"
   ]
  },
  {
   "cell_type": "code",
   "execution_count": 20,
   "id": "35319033-5343-4f28-be21-87d50b78787d",
   "metadata": {},
   "outputs": [
    {
     "name": "stdout",
     "output_type": "stream",
     "text": [
      "Solution - 4:\n",
      "Objective value = 6.5\n",
      "arrivals = [40, 60, 20, 60]\n",
      "fills = [40, 20, 60, 0]\n",
      "stops = [1, 1, 1, 0]\n"
     ]
    }
   ],
   "source": [
    "if status == cp_model.OPTIMAL or status == cp_model.FEASIBLE:\n",
    "    print(f\"Solution - {status}:\")\n",
    "    print(\"Objective value =\", solver.objective_value / 1000)    \n",
    "    print(\"arrivals =\", [solver.value(a) for a in arrivals])\n",
    "    print(\"fills =\", [solver.value(f) for f in fills])\n",
    "    print(\"stops =\", [solver.value(s) for s in stops])\n",
    "else:\n",
    "    print(\"The problem does not have a solution.\")"
   ]
  },
  {
   "cell_type": "code",
   "execution_count": 21,
   "id": "136db353-39ff-4bd5-93de-82f05ae9cf06",
   "metadata": {},
   "outputs": [
    {
     "data": {
      "image/png": "[encoded data removed]",
      "text/plain": [
       "<Figure size 324x432 with 1 Axes>"
      ]
     },
     "metadata": {},
     "output_type": "display_data"
    }
   ],
   "source": [
    "ev.set_soc(1)\n",
    "opt_charge = [solver.value(f) for f in fills]\n",
    "flowers = simulate(ev, r, opt_charge)\n",
    "visualise(flowers, ev, r, opt_charge, title='PLAN RETURN PREVIOUS')"
   ]
  },
  {
   "cell_type": "code",
   "execution_count": null,
   "id": "0ecf45d0-3dbf-4eed-b698-c9a9913b1228",
   "metadata": {},
   "outputs": [],
   "source": []
  }
 ],
 "metadata": {
  "kernelspec": {
   "display_name": "Python 3 (ipykernel)",
   "language": "python",
   "name": "python3"
  },
  "language_info": {
   "codemirror_mode": {
    "name": "ipython",
    "version": 3
   },
   "file_extension": ".py",
   "mimetype": "text/x-python",
   "name": "python",
   "nbconvert_exporter": "python",
   "pygments_lexer": "ipython3",
   "version": "3.10.2"
  }
 },
 "nbformat": 4,
 "nbformat_minor": 5
}
