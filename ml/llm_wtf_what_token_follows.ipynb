{
  "nbformat": 4,
  "nbformat_minor": 0,
  "metadata": {
    "colab": {
      "provenance": []
    },
    "kernelspec": {
      "name": "python3",
      "display_name": "Python 3"
    },
    "language_info": {
      "name": "python"
    }
  },
  "cells": [
    {
      "cell_type": "markdown",
      "source": [
        "# Setup"
      ],
      "metadata": {
        "id": "l_3OBGJjxBmJ"
      }
    },
    {
      "cell_type": "code",
      "source": [
        "!pip install llama-cpp-python==0.1.78"
      ],
      "metadata": {
        "colab": {
          "base_uri": "https://localhost:8080/"
        },
        "id": "Ehq7ofn3f8mb",
        "outputId": "016c46ea-699e-4eb7-9cc4-92cf9ab9543c"
      },
      "execution_count": 1,
      "outputs": [
        {
          "output_type": "stream",
          "name": "stdout",
          "text": [
            "Requirement already satisfied: llama-cpp-python==0.1.78 in /usr/local/lib/python3.10/dist-packages (0.1.78)\n",
            "Requirement already satisfied: typing-extensions>=4.5.0 in /usr/local/lib/python3.10/dist-packages (from llama-cpp-python==0.1.78) (4.7.1)\n",
            "Requirement already satisfied: numpy>=1.20.0 in /usr/local/lib/python3.10/dist-packages (from llama-cpp-python==0.1.78) (1.23.5)\n",
            "Requirement already satisfied: diskcache>=5.6.1 in /usr/local/lib/python3.10/dist-packages (from llama-cpp-python==0.1.78) (5.6.1)\n"
          ]
        }
      ]
    },
    {
      "cell_type": "code",
      "source": [
        "from urllib.request import urlopen\n",
        "from shutil import copyfileobj\n",
        "\n",
        "model_url = \"https://huggingface.co/TheBloke/Llama-2-7B-Chat-GGML/resolve/main/llama-2-7b-chat.ggmlv3.q4_0.bin\"\n",
        "model_filename = \"llama-2-7b-chat.ggmlv3.q4_0.bin\"\n",
        "\n",
        "with urlopen(model_url) as in_stream, open(model_filename, 'wb') as out_file:\n",
        "    copyfileobj(in_stream, out_file)"
      ],
      "metadata": {
        "id": "VVmSGuWX5550"
      },
      "execution_count": 2,
      "outputs": []
    },
    {
      "cell_type": "code",
      "source": [
        "!pwd && ls -lh"
      ],
      "metadata": {
        "colab": {
          "base_uri": "https://localhost:8080/"
        },
        "id": "8oVeJoTR0Ndu",
        "outputId": "95b32dce-c663-41b5-9baf-ea82c6302c0d"
      },
      "execution_count": 3,
      "outputs": [
        {
          "output_type": "stream",
          "name": "stdout",
          "text": [
            "/content\n",
            "total 3.6G\n",
            "-rw-r--r-- 1 root root 3.6G Aug 26 07:24 llama-2-7b-chat.ggmlv3.q4_0.bin\n",
            "drwxr-xr-x 1 root root 4.0K Aug 24 21:25 sample_data\n"
          ]
        }
      ]
    },
    {
      "cell_type": "code",
      "execution_count": 4,
      "metadata": {
        "colab": {
          "base_uri": "https://localhost:8080/"
        },
        "id": "iAdubs_Afkik",
        "outputId": "19828b37-61bd-4492-cb32-3140d3241cac"
      },
      "outputs": [
        {
          "output_type": "stream",
          "name": "stderr",
          "text": [
            "AVX = 1 | AVX2 = 1 | AVX512 = 0 | AVX512_VBMI = 0 | AVX512_VNNI = 0 | FMA = 1 | NEON = 0 | ARM_FMA = 0 | F16C = 1 | FP16_VA = 0 | WASM_SIMD = 0 | BLAS = 0 | SSE3 = 1 | VSX = 0 | \n"
          ]
        }
      ],
      "source": [
        "from llama_cpp import Llama\n",
        "\n",
        "llm = Llama(model_path=\"/content/llama-2-7b-chat.ggmlv3.q4_0.bin\")"
      ]
    },
    {
      "cell_type": "code",
      "source": [
        "def start_generate(llm, tokens, top_k=40, top_p=0.95, temp=0.8):\n",
        "  g = llm.generate(tokens, top_k=top_k, top_p=top_p, temp=temp)\n",
        "  t = next(g)\n",
        "  return t, g"
      ],
      "metadata": {
        "id": "8f_VWXDmE4x3"
      },
      "execution_count": 5,
      "outputs": []
    },
    {
      "cell_type": "code",
      "source": [
        "def token_string(llm, t):\n",
        "  return llm.detokenize([t]).decode()\n",
        "\n",
        "def display_token(llm, t):\n",
        "  print(t, f'\"{token_string(llm, t)}\"')"
      ],
      "metadata": {
        "id": "d-6dQT97By8n"
      },
      "execution_count": 6,
      "outputs": []
    },
    {
      "cell_type": "code",
      "source": [
        "import matplotlib.pyplot as plt\n",
        "import numpy as np\n",
        "\n",
        "def plot_all_logits(llm):\n",
        "  logits = np.array(llm.eval_logits)\n",
        "  l2 = logits.reshape((80,-1))\n",
        "  plt.figure(figsize=(12, 3))\n",
        "  plt.imshow(l2)\n",
        "  plt.show()\n",
        "\n",
        "def plot_top_logits(llm, top_n=10, figsize=(6, 3), fontsize=10):\n",
        "  logits = np.array(llm.eval_logits)\n",
        "  ts = np.flip(np.flip(np.argsort(logits))[0,:top_n])\n",
        "  labels = [llm.detokenize([t]).decode().replace('\\$\\$','\\\\$\\\\$') for t in ts]\n",
        "  strengths = logits[0, ts]\n",
        "  plt.figure(figsize=figsize)\n",
        "  plt.rc('font', size=fontsize)\n",
        "  plt.barh(y=labels, width=strengths)\n",
        "  plt.show()"
      ],
      "metadata": {
        "id": "ZuHlvOejHkn2"
      },
      "execution_count": 7,
      "outputs": []
    },
    {
      "cell_type": "markdown",
      "source": [
        "# Base case generation"
      ],
      "metadata": {
        "id": "jy7EdZD4xEhG"
      }
    },
    {
      "cell_type": "code",
      "source": [
        "prompt_base = b\"### Human: Tell me a story\\n### Assistant:\"\n",
        "tokens_base = llm.tokenize(prompt_base)"
      ],
      "metadata": {
        "id": "8QD4Ls7bw_5z"
      },
      "execution_count": 8,
      "outputs": []
    },
    {
      "cell_type": "code",
      "source": [
        "t11, g1 = start_generate(llm, tokens_base)"
      ],
      "metadata": {
        "id": "44jz-NHPN-fd"
      },
      "execution_count": 9,
      "outputs": []
    },
    {
      "cell_type": "code",
      "source": [
        "display_token(llm, t11)"
      ],
      "metadata": {
        "colab": {
          "base_uri": "https://localhost:8080/"
        },
        "id": "yg4Z2QhXvWGh",
        "outputId": "552ad587-6754-40ed-9aba-fe11dfab22f3"
      },
      "execution_count": 10,
      "outputs": [
        {
          "output_type": "stream",
          "name": "stdout",
          "text": [
            "4587 \" Of\"\n"
          ]
        }
      ]
    },
    {
      "cell_type": "code",
      "source": [
        "plot_top_logits(llm)"
      ],
      "metadata": {
        "colab": {
          "base_uri": "https://localhost:8080/",
          "height": 291
        },
        "id": "zPyRHXGitMAp",
        "outputId": "f1d8c9f4-d3c8-4381-c267-b6ee92f3dbb4"
      },
      "execution_count": 11,
      "outputs": [
        {
          "output_type": "display_data",
          "data": {
            "text/plain": [
              "<Figure size 600x300 with 1 Axes>"
            ],
            "image/png": "[encoded data removed]"
          },
          "metadata": {}
        }
      ]
    },
    {
      "cell_type": "code",
      "source": [
        "t12 = next(g1)\n",
        "display_token(llm, t12)"
      ],
      "metadata": {
        "colab": {
          "base_uri": "https://localhost:8080/"
        },
        "id": "NA9I-NDuAW35",
        "outputId": "ca88d237-faba-45bd-edb6-3ea997882eca"
      },
      "execution_count": 12,
      "outputs": [
        {
          "output_type": "stream",
          "name": "stdout",
          "text": [
            "3236 \" course\"\n"
          ]
        }
      ]
    },
    {
      "cell_type": "code",
      "source": [
        "plot_top_logits(llm)"
      ],
      "metadata": {
        "colab": {
          "base_uri": "https://localhost:8080/",
          "height": 291
        },
        "id": "2rGXkVQYwDCn",
        "outputId": "077e5705-ff0a-4835-8e8b-5c1cdd6e85bd"
      },
      "execution_count": 13,
      "outputs": [
        {
          "output_type": "display_data",
          "data": {
            "text/plain": [
              "<Figure size 600x300 with 1 Axes>"
            ],
            "image/png": "[encoded data removed]"
          },
          "metadata": {}
        }
      ]
    },
    {
      "cell_type": "code",
      "source": [
        "t13 = next(g1)\n",
        "display_token(llm, t13)"
      ],
      "metadata": {
        "colab": {
          "base_uri": "https://localhost:8080/"
        },
        "id": "ZYsJAAWDwJLs",
        "outputId": "ee24b182-5f15-4e97-ecd8-75b25ab5e432"
      },
      "execution_count": 14,
      "outputs": [
        {
          "output_type": "stream",
          "name": "stdout",
          "text": [
            "29991 \"!\"\n"
          ]
        }
      ]
    },
    {
      "cell_type": "code",
      "source": [
        "plot_top_logits(llm)"
      ],
      "metadata": {
        "colab": {
          "base_uri": "https://localhost:8080/",
          "height": 291
        },
        "id": "0gFQvVUMwQIZ",
        "outputId": "e026bcc6-472e-42de-bc2a-7e987100704c"
      },
      "execution_count": 15,
      "outputs": [
        {
          "output_type": "display_data",
          "data": {
            "text/plain": [
              "<Figure size 600x300 with 1 Axes>"
            ],
            "image/png": "[encoded data removed]"
          },
          "metadata": {}
        }
      ]
    },
    {
      "cell_type": "markdown",
      "source": [
        "# Vary base case"
      ],
      "metadata": {
        "id": "Zg99I2ozxInI"
      }
    },
    {
      "cell_type": "code",
      "source": [
        "# Force sequence of tokens to reflect the second choice for the first response token\n",
        "prompt_vary = prompt_base + b\" Sure\"\n",
        "tokens_vary = llm.tokenize(prompt_vary)"
      ],
      "metadata": {
        "id": "fx1WpionxKPd"
      },
      "execution_count": 16,
      "outputs": []
    },
    {
      "cell_type": "code",
      "source": [
        "llm.reset()\n",
        "t22, g2 = start_generate(llm, tokens_vary)"
      ],
      "metadata": {
        "id": "_Kta_IBRyC6Z"
      },
      "execution_count": 17,
      "outputs": []
    },
    {
      "cell_type": "code",
      "source": [
        "display_token(llm, t22)"
      ],
      "metadata": {
        "colab": {
          "base_uri": "https://localhost:8080/"
        },
        "id": "hPnkhpJDyOqZ",
        "outputId": "46593f1c-b6e2-4b62-9c3c-6941cede5d53"
      },
      "execution_count": 18,
      "outputs": [
        {
          "output_type": "stream",
          "name": "stdout",
          "text": [
            "29892 \",\"\n"
          ]
        }
      ]
    },
    {
      "cell_type": "code",
      "source": [
        "plot_top_logits(llm)"
      ],
      "metadata": {
        "colab": {
          "base_uri": "https://localhost:8080/",
          "height": 291
        },
        "id": "XuPF2CjQyX1x",
        "outputId": "16fb5790-17ef-4f24-9730-913a3e328b83"
      },
      "execution_count": 19,
      "outputs": [
        {
          "output_type": "display_data",
          "data": {
            "text/plain": [
              "<Figure size 600x300 with 1 Axes>"
            ],
            "image/png": "[encoded data removed]"
          },
          "metadata": {}
        }
      ]
    },
    {
      "cell_type": "code",
      "source": [
        "t23 = next(g2)\n",
        "display_token(llm, t23)"
      ],
      "metadata": {
        "colab": {
          "base_uri": "https://localhost:8080/"
        },
        "id": "9BbsnDgXyc9r",
        "outputId": "9c1d2a85-a30b-4e46-869c-e61ecb3463f6"
      },
      "execution_count": 20,
      "outputs": [
        {
          "output_type": "stream",
          "name": "stdout",
          "text": [
            "306 \" I\"\n"
          ]
        }
      ]
    },
    {
      "cell_type": "code",
      "source": [
        "plot_top_logits(llm)"
      ],
      "metadata": {
        "colab": {
          "base_uri": "https://localhost:8080/",
          "height": 291
        },
        "id": "6zQ5Do_1ys7e",
        "outputId": "8625ba5b-ffc3-4c58-961a-ba9dc5ea52f8"
      },
      "execution_count": 21,
      "outputs": [
        {
          "output_type": "display_data",
          "data": {
            "text/plain": [
              "<Figure size 600x300 with 1 Axes>"
            ],
            "image/png": "[encoded data removed]"
          },
          "metadata": {}
        }
      ]
    },
    {
      "cell_type": "markdown",
      "source": [
        "## And another variation"
      ],
      "metadata": {
        "id": "CPz8VVrp3jIC"
      }
    },
    {
      "cell_type": "code",
      "source": [
        "# looks like an alternative opening could be \"Absolutely\" - shall we check?\n",
        "prompt_ab = prompt_base + b\" Ab\"\n",
        "tokens_ab = llm.tokenize(prompt_ab)\n",
        "t32, g3 = start_generate(llm, tokens_ab)\n",
        "display_token(llm, t32)\n",
        "plot_top_logits(llm)"
      ],
      "metadata": {
        "colab": {
          "base_uri": "https://localhost:8080/",
          "height": 328
        },
        "id": "1_0CKg8z3ipq",
        "outputId": "991617de-40fa-4225-de41-32accfde22fc"
      },
      "execution_count": 22,
      "outputs": [
        {
          "output_type": "stream",
          "name": "stderr",
          "text": [
            "Llama.generate: prefix-match hit\n"
          ]
        },
        {
          "output_type": "stream",
          "name": "stdout",
          "text": [
            "2929 \"sol\"\n"
          ]
        },
        {
          "output_type": "display_data",
          "data": {
            "text/plain": [
              "<Figure size 600x300 with 1 Axes>"
            ],
            "image/png": "[encoded data removed]"
          },
          "metadata": {}
        }
      ]
    },
    {
      "cell_type": "markdown",
      "source": [
        "# Generate a chunk of text"
      ],
      "metadata": {
        "id": "xxv61TYcgvKq"
      }
    },
    {
      "cell_type": "code",
      "source": [
        "llm2 = Llama(model_path=\"/content/llama-2-7b-chat.ggmlv3.q4_0.bin\", seed=42)"
      ],
      "metadata": {
        "colab": {
          "base_uri": "https://localhost:8080/"
        },
        "id": "8C7FL9DSg2ZD",
        "outputId": "d295421a-ef72-42ca-b938-81eb7134b3eb"
      },
      "execution_count": 23,
      "outputs": [
        {
          "output_type": "stream",
          "name": "stderr",
          "text": [
            "AVX = 1 | AVX2 = 1 | AVX512 = 0 | AVX512_VBMI = 0 | AVX512_VNNI = 0 | FMA = 1 | NEON = 0 | ARM_FMA = 0 | F16C = 1 | FP16_VA = 0 | WASM_SIMD = 0 | BLAS = 0 | SSE3 = 1 | VSX = 0 | \n"
          ]
        }
      ]
    },
    {
      "cell_type": "markdown",
      "source": [
        "With `temperature=0` we expect identical results"
      ],
      "metadata": {
        "id": "t8P-ofzzmUh5"
      }
    },
    {
      "cell_type": "code",
      "source": [
        "llm2.reset()\n",
        "llm2.create_completion(prompt_base.decode(), max_tokens=64, temperature=0)"
      ],
      "metadata": {
        "colab": {
          "base_uri": "https://localhost:8080/"
        },
        "id": "mLb2C9Mmg_T7",
        "outputId": "cf7000dc-cc1d-4b8a-e5d5-cb2e986a5edb"
      },
      "execution_count": 24,
      "outputs": [
        {
          "output_type": "execute_result",
          "data": {
            "text/plain": [
              "{'id': 'cmpl-d1e7cb19-bba3-4e80-bff4-c1325f8358d9',\n",
              " 'object': 'text_completion',\n",
              " 'created': 1693034692,\n",
              " 'model': '/content/llama-2-7b-chat.ggmlv3.q4_0.bin',\n",
              " 'choices': [{'text': \" Of course! I'd be happy to tell you a story. Can you give me some details about what kind of story you would like to hear? For example, do you want it to be a funny story, a sad story, or an adventure story?\",\n",
              "   'index': 0,\n",
              "   'logprobs': None,\n",
              "   'finish_reason': 'stop'}],\n",
              " 'usage': {'prompt_tokens': 14, 'completion_tokens': 55, 'total_tokens': 69}}"
            ]
          },
          "metadata": {},
          "execution_count": 24
        }
      ]
    },
    {
      "cell_type": "code",
      "source": [
        "llm2.reset()\n",
        "llm2.create_completion(prompt_base.decode(), max_tokens=64, temperature=0)"
      ],
      "metadata": {
        "colab": {
          "base_uri": "https://localhost:8080/"
        },
        "id": "77Nbl1LakUQb",
        "outputId": "b54cb1bf-66ea-44de-f714-7716132ee5e6"
      },
      "execution_count": 25,
      "outputs": [
        {
          "output_type": "execute_result",
          "data": {
            "text/plain": [
              "{'id': 'cmpl-fe0f2031-a30b-4cd9-bbe4-77ec6b798698',\n",
              " 'object': 'text_completion',\n",
              " 'created': 1693034754,\n",
              " 'model': '/content/llama-2-7b-chat.ggmlv3.q4_0.bin',\n",
              " 'choices': [{'text': \" Of course! I'd be happy to tell you a story. Can you give me some details about what kind of story you would like to hear? For example, do you want it to be a funny story, a sad story, or an adventure story?\",\n",
              "   'index': 0,\n",
              "   'logprobs': None,\n",
              "   'finish_reason': 'stop'}],\n",
              " 'usage': {'prompt_tokens': 14, 'completion_tokens': 55, 'total_tokens': 69}}"
            ]
          },
          "metadata": {},
          "execution_count": 25
        }
      ]
    },
    {
      "cell_type": "markdown",
      "source": [
        "With `temperature=0.8` as a typical value we expect varied but consistent results"
      ],
      "metadata": {
        "id": "dbBEGCIImbdM"
      }
    },
    {
      "cell_type": "code",
      "source": [
        "llm2.reset()\n",
        "llm2.create_completion(prompt_base.decode(), max_tokens=64, temperature=0.8)"
      ],
      "metadata": {
        "colab": {
          "base_uri": "https://localhost:8080/"
        },
        "id": "wsSjs192h4w4",
        "outputId": "301b9cd5-638c-426e-fe72-0ffd4651673e"
      },
      "execution_count": 26,
      "outputs": [
        {
          "output_type": "execute_result",
          "data": {
            "text/plain": [
              "{'id': 'cmpl-d1f96032-97fb-42a9-9f41-ceba95ad2e88',\n",
              " 'object': 'text_completion',\n",
              " 'created': 1693034815,\n",
              " 'model': '/content/llama-2-7b-chat.ggmlv3.q4_0.bin',\n",
              " 'choices': [{'text': \" Of course, I'd be happy to tell you a story! Can you give me some details about what kind of story you would like to hear? For example, do you want it to be funny, sad, scary, or something else entirely?\",\n",
              "   'index': 0,\n",
              "   'logprobs': None,\n",
              "   'finish_reason': 'stop'}],\n",
              " 'usage': {'prompt_tokens': 14, 'completion_tokens': 53, 'total_tokens': 67}}"
            ]
          },
          "metadata": {},
          "execution_count": 26
        }
      ]
    },
    {
      "cell_type": "code",
      "source": [
        "llm2.reset()\n",
        "llm2.create_completion(prompt_base.decode(), max_tokens=64, temperature=0.8)"
      ],
      "metadata": {
        "colab": {
          "base_uri": "https://localhost:8080/"
        },
        "id": "kcwhLIjLkXKD",
        "outputId": "925896b3-a955-40b2-adab-1a711a4965c8"
      },
      "execution_count": 27,
      "outputs": [
        {
          "output_type": "execute_result",
          "data": {
            "text/plain": [
              "{'id': 'cmpl-8ee6a6ee-7166-4047-a6a6-ef1967bc0d50',\n",
              " 'object': 'text_completion',\n",
              " 'created': 1693034876,\n",
              " 'model': '/content/llama-2-7b-chat.ggmlv3.q4_0.bin',\n",
              " 'choices': [{'text': \" Of course! I'd be happy to tell you a story. Can you give me some information about what kind of story you would like to hear? For example, do you want it to be funny, sad, or exciting? Do you have any specific themes or characters in mind?\",\n",
              "   'index': 0,\n",
              "   'logprobs': None,\n",
              "   'finish_reason': 'stop'}],\n",
              " 'usage': {'prompt_tokens': 14, 'completion_tokens': 61, 'total_tokens': 75}}"
            ]
          },
          "metadata": {},
          "execution_count": 27
        }
      ]
    },
    {
      "cell_type": "markdown",
      "source": [
        "With `temperature=5` we expect quite varied results"
      ],
      "metadata": {
        "id": "OvPd67rlmou7"
      }
    },
    {
      "cell_type": "code",
      "source": [
        "llm2.reset()\n",
        "llm2.create_completion(prompt_base.decode(), max_tokens=64, temperature=5)"
      ],
      "metadata": {
        "colab": {
          "base_uri": "https://localhost:8080/"
        },
        "id": "GfROHWpIh84e",
        "outputId": "4fc02f6d-9942-49dd-ee80-3699d9a1531c"
      },
      "execution_count": 28,
      "outputs": [
        {
          "output_type": "execute_result",
          "data": {
            "text/plain": [
              "{'id': 'cmpl-4c5163d5-3bc5-409d-a748-bb84a8c944af',\n",
              " 'object': 'text_completion',\n",
              " 'created': 1693034938,\n",
              " 'model': '/content/llama-2-7b-chat.ggmlv3.q4_0.bin',\n",
              " 'choices': [{'text': \" Of course, I'd be happy to tell you a story! Here is one I just made up on the spot:\\n\\nOnce upon a time, in a far-off land, there was a small village nestled at the foot of a great mountain. The villagers were known for their exceptional skill\",\n",
              "   'index': 0,\n",
              "   'logprobs': None,\n",
              "   'finish_reason': 'length'}],\n",
              " 'usage': {'prompt_tokens': 14, 'completion_tokens': 64, 'total_tokens': 78}}"
            ]
          },
          "metadata": {},
          "execution_count": 28
        }
      ]
    },
    {
      "cell_type": "code",
      "source": [
        "llm2.reset()\n",
        "llm2.create_completion(prompt_base.decode(), max_tokens=64, temperature=5)"
      ],
      "metadata": {
        "colab": {
          "base_uri": "https://localhost:8080/"
        },
        "id": "XuOqb7VJkYqY",
        "outputId": "84aee5fc-b8ad-48ca-d6a7-71ef16c51705"
      },
      "execution_count": 29,
      "outputs": [
        {
          "output_type": "execute_result",
          "data": {
            "text/plain": [
              "{'id': 'cmpl-911844ae-1113-4f80-a4d3-6e4e0a13f376',\n",
              " 'object': 'text_completion',\n",
              " 'created': 1693035005,\n",
              " 'model': '/content/llama-2-7b-chat.ggmlv3.q4_0.bin',\n",
              " 'choices': [{'text': ' Of course! What would you like the story to be about? Fantasy, adventure, romance, or something else? ',\n",
              "   'index': 0,\n",
              "   'logprobs': None,\n",
              "   'finish_reason': 'stop'}],\n",
              " 'usage': {'prompt_tokens': 14, 'completion_tokens': 27, 'total_tokens': 41}}"
            ]
          },
          "metadata": {},
          "execution_count": 29
        }
      ]
    },
    {
      "cell_type": "markdown",
      "source": [
        "# Approximate generation with eval, sample and token concatenation"
      ],
      "metadata": {
        "id": "O5MxJM611hBL"
      }
    },
    {
      "cell_type": "code",
      "source": [
        "import random\n",
        "\n",
        "def sample_trials(llm, n=10, temp=0.8):\n",
        "  ts = []\n",
        "  for i in range(n):\n",
        "    t = llm.sample(temp=temp)\n",
        "    ts.append(t)\n",
        "  return ts\n",
        "\n",
        "def generate_from_sample_trials(llm, tokens, n=10, temp=0.8):\n",
        "  llm.eval(tokens)\n",
        "  plot_top_logits(llm, figsize=(2,1), fontsize=5)\n",
        "  ts = sample_trials(llm, n=n, temp=temp)\n",
        "  u_ts = np.unique(ts, return_counts=True)\n",
        "  u_display = [(t, token_string(llm, t), u_ts[1][i]) for i, t in enumerate(u_ts[0])]\n",
        "  print(u_display)\n",
        "  t = random.choice(ts)\n",
        "  print(f\"Choose: {(t, token_string(llm, t))}\")\n",
        "  generated_tokens = list(tokens)\n",
        "  generated_tokens.append(t)\n",
        "  return generated_tokens"
      ],
      "metadata": {
        "id": "E9SyeJT5B3LY"
      },
      "execution_count": 30,
      "outputs": []
    },
    {
      "cell_type": "code",
      "source": [
        "llm3 = Llama(model_path=\"/content/llama-2-7b-chat.ggmlv3.q4_0.bin\", seed=917)"
      ],
      "metadata": {
        "colab": {
          "base_uri": "https://localhost:8080/"
        },
        "id": "ZblDNjqA2kyE",
        "outputId": "002ea8f0-df58-4c67-c94a-5613535967ab"
      },
      "execution_count": 31,
      "outputs": [
        {
          "output_type": "stream",
          "name": "stderr",
          "text": [
            "AVX = 1 | AVX2 = 1 | AVX512 = 0 | AVX512_VBMI = 0 | AVX512_VNNI = 0 | FMA = 1 | NEON = 0 | ARM_FMA = 0 | F16C = 1 | FP16_VA = 0 | WASM_SIMD = 0 | BLAS = 0 | SSE3 = 1 | VSX = 0 | \n"
          ]
        }
      ]
    },
    {
      "cell_type": "markdown",
      "source": [
        "First time round with low temp"
      ],
      "metadata": {
        "id": "IDq3rcxsKMyt"
      }
    },
    {
      "cell_type": "code",
      "source": [
        "gts = tokens_base\n",
        "llm3.reset()\n",
        "\n",
        "for i in range(5):\n",
        "  gts = generate_from_sample_trials(llm3, gts, temp=0)"
      ],
      "metadata": {
        "colab": {
          "base_uri": "https://localhost:8080/",
          "height": 761
        },
        "id": "Yvcpy_FgKJy9",
        "outputId": "a9b4d88b-0880-42c2-ecab-17e3d0e7b965"
      },
      "execution_count": 32,
      "outputs": [
        {
          "output_type": "display_data",
          "data": {
            "text/plain": [
              "<Figure size 200x100 with 1 Axes>"
            ],
            "image/png": "[encoded data removed]"
          },
          "metadata": {}
        },
        {
          "output_type": "stream",
          "name": "stdout",
          "text": [
            "[(4587, ' Of', 10)]\n",
            "Choose: (4587, ' Of')\n"
          ]
        },
        {
          "output_type": "display_data",
          "data": {
            "text/plain": [
              "<Figure size 200x100 with 1 Axes>"
            ],
            "image/png": "[encoded data removed]"
          },
          "metadata": {}
        },
        {
          "output_type": "stream",
          "name": "stdout",
          "text": [
            "[(3236, ' course', 10)]\n",
            "Choose: (3236, ' course')\n"
          ]
        },
        {
          "output_type": "display_data",
          "data": {
            "text/plain": [
              "<Figure size 200x100 with 1 Axes>"
            ],
            "image/png": "[encoded data removed]"
          },
          "metadata": {}
        },
        {
          "output_type": "stream",
          "name": "stdout",
          "text": [
            "[(29991, '!', 10)]\n",
            "Choose: (29991, '!')\n"
          ]
        },
        {
          "output_type": "display_data",
          "data": {
            "text/plain": [
              "<Figure size 200x100 with 1 Axes>"
            ],
            "image/png": "[encoded data removed]"
          },
          "metadata": {}
        },
        {
          "output_type": "stream",
          "name": "stdout",
          "text": [
            "[(2266, ' Here', 10)]\n",
            "Choose: (2266, ' Here')\n"
          ]
        },
        {
          "output_type": "display_data",
          "data": {
            "text/plain": [
              "<Figure size 200x100 with 1 Axes>"
            ],
            "image/png": "[encoded data removed]"
          },
          "metadata": {}
        },
        {
          "output_type": "stream",
          "name": "stdout",
          "text": [
            "[(338, ' is', 10)]\n",
            "Choose: (338, ' is')\n"
          ]
        }
      ]
    },
    {
      "cell_type": "code",
      "source": [
        "text = llm3.detokenize(gts)\n",
        "text.decode()"
      ],
      "metadata": {
        "colab": {
          "base_uri": "https://localhost:8080/",
          "height": 36
        },
        "id": "6yJfe9G4Kdws",
        "outputId": "450ed527-cd1d-4959-fca0-4ae6595b169c"
      },
      "execution_count": 33,
      "outputs": [
        {
          "output_type": "execute_result",
          "data": {
            "text/plain": [
              "'### Human: Tell me a story\\n### Assistant: Of course! Here is'"
            ],
            "application/vnd.google.colaboratory.intrinsic+json": {
              "type": "string"
            }
          },
          "metadata": {},
          "execution_count": 33
        }
      ]
    },
    {
      "cell_type": "markdown",
      "source": [
        "Typical temp"
      ],
      "metadata": {
        "id": "s-aEwNEKM9KW"
      }
    },
    {
      "cell_type": "code",
      "source": [
        "gts = tokens_base\n",
        "llm3.reset()\n",
        "\n",
        "for i in range(5):\n",
        "  gts = generate_from_sample_trials(llm3, gts, temp=0.8)"
      ],
      "metadata": {
        "colab": {
          "base_uri": "https://localhost:8080/",
          "height": 761
        },
        "id": "5Bs_CaFrM5vz",
        "outputId": "666ad2f4-ed84-47f6-8c13-4fb09df5c3be"
      },
      "execution_count": 34,
      "outputs": [
        {
          "output_type": "display_data",
          "data": {
            "text/plain": [
              "<Figure size 200x100 with 1 Axes>"
            ],
            "image/png": "[encoded data removed]"
          },
          "metadata": {}
        },
        {
          "output_type": "stream",
          "name": "stdout",
          "text": [
            "[(4587, ' Of', 10)]\n",
            "Choose: (4587, ' Of')\n"
          ]
        },
        {
          "output_type": "display_data",
          "data": {
            "text/plain": [
              "<Figure size 200x100 with 1 Axes>"
            ],
            "image/png": "[encoded data removed]"
          },
          "metadata": {}
        },
        {
          "output_type": "stream",
          "name": "stdout",
          "text": [
            "[(3236, ' course', 10)]\n",
            "Choose: (3236, ' course')\n"
          ]
        },
        {
          "output_type": "display_data",
          "data": {
            "text/plain": [
              "<Figure size 200x100 with 1 Axes>"
            ],
            "image/png": "[encoded data removed]"
          },
          "metadata": {}
        },
        {
          "output_type": "stream",
          "name": "stdout",
          "text": [
            "[(29892, ',', 1), (29991, '!', 9)]\n",
            "Choose: (29991, '!')\n"
          ]
        },
        {
          "output_type": "display_data",
          "data": {
            "text/plain": [
              "<Figure size 200x100 with 1 Axes>"
            ],
            "image/png": "[encoded data removed]"
          },
          "metadata": {}
        },
        {
          "output_type": "stream",
          "name": "stdout",
          "text": [
            "[(306, ' I', 2), (1724, ' What', 2), (2266, ' Here', 2), (2803, ' Let', 4)]\n",
            "Choose: (2803, ' Let')\n"
          ]
        },
        {
          "output_type": "display_data",
          "data": {
            "text/plain": [
              "<Figure size 200x100 with 1 Axes>"
            ],
            "image/png": "[encoded data removed]"
          },
          "metadata": {}
        },
        {
          "output_type": "stream",
          "name": "stdout",
          "text": [
            "[(592, ' me', 10)]\n",
            "Choose: (592, ' me')\n"
          ]
        }
      ]
    },
    {
      "cell_type": "code",
      "source": [
        "text = llm3.detokenize(gts)\n",
        "text.decode()"
      ],
      "metadata": {
        "colab": {
          "base_uri": "https://localhost:8080/",
          "height": 36
        },
        "id": "1r5VUET0M8TV",
        "outputId": "db6a71cc-a5ea-48ae-c8c7-a8d67477e876"
      },
      "execution_count": 35,
      "outputs": [
        {
          "output_type": "execute_result",
          "data": {
            "text/plain": [
              "'### Human: Tell me a story\\n### Assistant: Of course! Let me'"
            ],
            "application/vnd.google.colaboratory.intrinsic+json": {
              "type": "string"
            }
          },
          "metadata": {},
          "execution_count": 35
        }
      ]
    },
    {
      "cell_type": "markdown",
      "source": [
        "Again with high temp"
      ],
      "metadata": {
        "id": "shmQYIc9KV0i"
      }
    },
    {
      "cell_type": "code",
      "source": [
        "gts = tokens_base\n",
        "llm3.reset()\n",
        "\n",
        "for i in range(5):\n",
        "  gts = generate_from_sample_trials(llm3, gts, temp=5)"
      ],
      "metadata": {
        "colab": {
          "base_uri": "https://localhost:8080/",
          "height": 761
        },
        "id": "ToR0_5gM_EHB",
        "outputId": "ae26d426-2ecf-4696-d3b9-e4c1f356c21a"
      },
      "execution_count": 36,
      "outputs": [
        {
          "output_type": "display_data",
          "data": {
            "text/plain": [
              "<Figure size 200x100 with 1 Axes>"
            ],
            "image/png": "[encoded data removed]"
          },
          "metadata": {}
        },
        {
          "output_type": "stream",
          "name": "stdout",
          "text": [
            "[(4587, ' Of', 10)]\n",
            "Choose: (4587, ' Of')\n"
          ]
        },
        {
          "output_type": "display_data",
          "data": {
            "text/plain": [
              "<Figure size 200x100 with 1 Axes>"
            ],
            "image/png": "[encoded data removed]"
          },
          "metadata": {}
        },
        {
          "output_type": "stream",
          "name": "stdout",
          "text": [
            "[(3236, ' course', 10)]\n",
            "Choose: (3236, ' course')\n"
          ]
        },
        {
          "output_type": "display_data",
          "data": {
            "text/plain": [
              "<Figure size 200x100 with 1 Axes>"
            ],
            "image/png": "[encoded data removed]"
          },
          "metadata": {}
        },
        {
          "output_type": "stream",
          "name": "stdout",
          "text": [
            "[(29892, ',', 7), (29991, '!', 3)]\n",
            "Choose: (29991, '!')\n"
          ]
        },
        {
          "output_type": "display_data",
          "data": {
            "text/plain": [
              "<Figure size 200x100 with 1 Axes>"
            ],
            "image/png": "[encoded data removed]"
          },
          "metadata": {}
        },
        {
          "output_type": "stream",
          "name": "stdout",
          "text": [
            "[(306, ' I', 2), (1724, ' What', 4), (2266, ' Here', 1), (2803, ' Let', 3)]\n",
            "Choose: (2803, ' Let')\n"
          ]
        },
        {
          "output_type": "display_data",
          "data": {
            "text/plain": [
              "<Figure size 200x100 with 1 Axes>"
            ],
            "image/png": "[encoded data removed]"
          },
          "metadata": {}
        },
        {
          "output_type": "stream",
          "name": "stdout",
          "text": [
            "[(592, ' me', 10)]\n",
            "Choose: (592, ' me')\n"
          ]
        }
      ]
    },
    {
      "cell_type": "code",
      "source": [
        "text = llm3.detokenize(gts)\n",
        "text.decode()"
      ],
      "metadata": {
        "colab": {
          "base_uri": "https://localhost:8080/",
          "height": 36
        },
        "id": "I0uJ06xzIVFX",
        "outputId": "b0816b79-974f-493a-cd02-f4848fd7d2e6"
      },
      "execution_count": 37,
      "outputs": [
        {
          "output_type": "execute_result",
          "data": {
            "text/plain": [
              "'### Human: Tell me a story\\n### Assistant: Of course! Let me'"
            ],
            "application/vnd.google.colaboratory.intrinsic+json": {
              "type": "string"
            }
          },
          "metadata": {},
          "execution_count": 37
        }
      ]
    }
  ]
}