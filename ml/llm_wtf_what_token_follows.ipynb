{
  "nbformat": 4,
  "nbformat_minor": 0,
  "metadata": {
    "colab": {
      "provenance": []
    },
    "kernelspec": {
      "name": "python3",
      "display_name": "Python 3"
    },
    "language_info": {
      "name": "python"
    }
  },
  "cells": [
    {
      "cell_type": "markdown",
      "source": [
        "# Setup"
      ],
      "metadata": {
        "id": "l_3OBGJjxBmJ"
      }
    },
    {
      "cell_type": "code",
      "source": [
        "!pip install llama-cpp-python==0.1.78"
      ],
      "metadata": {
        "colab": {
          "base_uri": "https://localhost:8080/"
        },
        "id": "Ehq7ofn3f8mb",
        "outputId": "92108abc-5de3-4d64-e33b-09614e7f8572"
      },
      "execution_count": 1,
      "outputs": [
        {
          "output_type": "stream",
          "name": "stdout",
          "text": [
            "Requirement already satisfied: llama-cpp-python==0.1.78 in /usr/local/lib/python3.10/dist-packages (0.1.78)\n",
            "Requirement already satisfied: typing-extensions>=4.5.0 in /usr/local/lib/python3.10/dist-packages (from llama-cpp-python==0.1.78) (4.7.1)\n",
            "Requirement already satisfied: numpy>=1.20.0 in /usr/local/lib/python3.10/dist-packages (from llama-cpp-python==0.1.78) (1.23.5)\n",
            "Requirement already satisfied: diskcache>=5.6.1 in /usr/local/lib/python3.10/dist-packages (from llama-cpp-python==0.1.78) (5.6.1)\n"
          ]
        }
      ]
    },
    {
      "cell_type": "code",
      "source": [
        "from urllib.request import urlopen\n",
        "from shutil import copyfileobj\n",
        "\n",
        "model_url = \"https://huggingface.co/TheBloke/Llama-2-7B-Chat-GGML/resolve/main/llama-2-7b-chat.ggmlv3.q4_0.bin\"\n",
        "model_filename = \"llama-2-7b-chat.ggmlv3.q4_0.bin\"\n",
        "\n",
        "with urlopen(model_url) as in_stream, open(model_filename, 'wb') as out_file:\n",
        "    copyfileobj(in_stream, out_file)"
      ],
      "metadata": {
        "id": "VVmSGuWX5550"
      },
      "execution_count": 2,
      "outputs": []
    },
    {
      "cell_type": "code",
      "source": [
        "!pwd && ls -lh"
      ],
      "metadata": {
        "colab": {
          "base_uri": "https://localhost:8080/"
        },
        "id": "8oVeJoTR0Ndu",
        "outputId": "49d9a1f2-db98-4c30-fc25-853cfd50b2e3"
      },
      "execution_count": 3,
      "outputs": [
        {
          "output_type": "stream",
          "name": "stdout",
          "text": [
            "/content\n",
            "total 3.6G\n",
            "-rw-r--r-- 1 root root 3.6G Aug 26 03:04 llama-2-7b-chat.ggmlv3.q4_0.bin\n",
            "drwxr-xr-x 1 root root 4.0K Aug 24 21:25 sample_data\n"
          ]
        }
      ]
    },
    {
      "cell_type": "code",
      "execution_count": 4,
      "metadata": {
        "colab": {
          "base_uri": "https://localhost:8080/"
        },
        "id": "iAdubs_Afkik",
        "outputId": "1e7d8aa9-f6d3-450b-8a26-232b35647274"
      },
      "outputs": [
        {
          "output_type": "stream",
          "name": "stderr",
          "text": [
            "AVX = 1 | AVX2 = 1 | AVX512 = 0 | AVX512_VBMI = 0 | AVX512_VNNI = 0 | FMA = 1 | NEON = 0 | ARM_FMA = 0 | F16C = 1 | FP16_VA = 0 | WASM_SIMD = 0 | BLAS = 0 | SSE3 = 1 | VSX = 0 | \n"
          ]
        }
      ],
      "source": [
        "from llama_cpp import Llama\n",
        "\n",
        "llm = Llama(model_path=\"/content/llama-2-7b-chat.ggmlv3.q4_0.bin\")"
      ]
    },
    {
      "cell_type": "code",
      "source": [
        "def start_generate(llm, tokens):\n",
        "  g = llm.generate(tokens)\n",
        "  t = next(g)\n",
        "  return t, g"
      ],
      "metadata": {
        "id": "8f_VWXDmE4x3"
      },
      "execution_count": 5,
      "outputs": []
    },
    {
      "cell_type": "code",
      "source": [
        "def display_token(llm, tk):\n",
        "  tx = llm.detokenize([tk])\n",
        "  print(tk, tx.decode())"
      ],
      "metadata": {
        "id": "d-6dQT97By8n"
      },
      "execution_count": 6,
      "outputs": []
    },
    {
      "cell_type": "code",
      "source": [
        "import matplotlib.pyplot as plt\n",
        "import numpy as np\n",
        "\n",
        "def plot_all_logits(llm):\n",
        "  logits = np.array(llm.eval_logits)\n",
        "  l2 = logits.reshape((80,-1))\n",
        "  plt.figure(figsize=(12, 3))\n",
        "  plt.imshow(l2)\n",
        "  plt.show()\n",
        "\n",
        "def plot_top_logits(llm, top_n=10):\n",
        "  logits = np.array(llm.eval_logits)\n",
        "  tks = np.flip(np.flip(np.argsort(logits))[0,:top_n])\n",
        "  labels = [llm.detokenize([tk]) for tk in tks]\n",
        "  strengths = logits[0, tks]\n",
        "  plt.figure(figsize=(6, 3))\n",
        "  plt.barh(y=labels, width=strengths)\n",
        "  plt.show()"
      ],
      "metadata": {
        "id": "ZuHlvOejHkn2"
      },
      "execution_count": 7,
      "outputs": []
    },
    {
      "cell_type": "markdown",
      "source": [
        "# Base case generation"
      ],
      "metadata": {
        "id": "jy7EdZD4xEhG"
      }
    },
    {
      "cell_type": "code",
      "source": [
        "prompt_base = b\"### Human: Tell me a story\\n### Assistant:\"\n",
        "tokens_base = llm.tokenize(prompt_base)"
      ],
      "metadata": {
        "id": "8QD4Ls7bw_5z"
      },
      "execution_count": 8,
      "outputs": []
    },
    {
      "cell_type": "code",
      "source": [
        "t11, g1 = start_generate(llm, tokens_base)"
      ],
      "metadata": {
        "id": "44jz-NHPN-fd"
      },
      "execution_count": 9,
      "outputs": []
    },
    {
      "cell_type": "code",
      "source": [
        "display_token(llm, t11)"
      ],
      "metadata": {
        "colab": {
          "base_uri": "https://localhost:8080/"
        },
        "id": "yg4Z2QhXvWGh",
        "outputId": "14df2301-13b6-467f-f826-3ae64c022590"
      },
      "execution_count": 10,
      "outputs": [
        {
          "output_type": "stream",
          "name": "stdout",
          "text": [
            "4587  Of\n"
          ]
        }
      ]
    },
    {
      "cell_type": "code",
      "source": [
        "plot_top_logits(llm)"
      ],
      "metadata": {
        "colab": {
          "base_uri": "https://localhost:8080/",
          "height": 291
        },
        "id": "zPyRHXGitMAp",
        "outputId": "f853f24c-d87f-4eda-ad2d-d5e4d8e11d88"
      },
      "execution_count": 11,
      "outputs": [
        {
          "output_type": "display_data",
          "data": {
            "text/plain": [
              "<Figure size 600x300 with 1 Axes>"
            ],
            "image/png": "[encoded data removed]"
          },
          "metadata": {}
        }
      ]
    },
    {
      "cell_type": "code",
      "source": [
        "t12 = next(g1)\n",
        "display_token(llm, t12)"
      ],
      "metadata": {
        "colab": {
          "base_uri": "https://localhost:8080/"
        },
        "id": "NA9I-NDuAW35",
        "outputId": "17355d6b-bb9b-4943-a14e-e34271f6d13a"
      },
      "execution_count": 12,
      "outputs": [
        {
          "output_type": "stream",
          "name": "stdout",
          "text": [
            "3236  course\n"
          ]
        }
      ]
    },
    {
      "cell_type": "code",
      "source": [
        "plot_top_logits(llm)"
      ],
      "metadata": {
        "colab": {
          "base_uri": "https://localhost:8080/",
          "height": 291
        },
        "id": "2rGXkVQYwDCn",
        "outputId": "c0c74c6d-e119-4139-f037-ed088560fa23"
      },
      "execution_count": 13,
      "outputs": [
        {
          "output_type": "display_data",
          "data": {
            "text/plain": [
              "<Figure size 600x300 with 1 Axes>"
            ],
            "image/png": "[encoded data removed]"
          },
          "metadata": {}
        }
      ]
    },
    {
      "cell_type": "code",
      "source": [
        "t13 = next(g1)\n",
        "display_token(llm, t13)"
      ],
      "metadata": {
        "colab": {
          "base_uri": "https://localhost:8080/"
        },
        "id": "ZYsJAAWDwJLs",
        "outputId": "7af63618-f292-41a3-8981-f085148f7a9d"
      },
      "execution_count": 14,
      "outputs": [
        {
          "output_type": "stream",
          "name": "stdout",
          "text": [
            "29991 !\n"
          ]
        }
      ]
    },
    {
      "cell_type": "code",
      "source": [
        "plot_top_logits(llm)"
      ],
      "metadata": {
        "colab": {
          "base_uri": "https://localhost:8080/",
          "height": 291
        },
        "id": "0gFQvVUMwQIZ",
        "outputId": "a24cb048-f2dd-4c46-e923-12fc30f2d4a8"
      },
      "execution_count": 15,
      "outputs": [
        {
          "output_type": "display_data",
          "data": {
            "text/plain": [
              "<Figure size 600x300 with 1 Axes>"
            ],
            "image/png": "[encoded data removed]"
          },
          "metadata": {}
        }
      ]
    },
    {
      "cell_type": "markdown",
      "source": [
        "# Vary base case"
      ],
      "metadata": {
        "id": "Zg99I2ozxInI"
      }
    },
    {
      "cell_type": "code",
      "source": [
        "# Force sequence of tokens to reflect the second choice for the first response token\n",
        "prompt_vary = prompt_base + b\" Sure\"\n",
        "tokens_vary = llm.tokenize(prompt_vary)"
      ],
      "metadata": {
        "id": "fx1WpionxKPd"
      },
      "execution_count": 16,
      "outputs": []
    },
    {
      "cell_type": "code",
      "source": [
        "t22, g2 = start_generate(llm, tokens_vary)"
      ],
      "metadata": {
        "colab": {
          "base_uri": "https://localhost:8080/"
        },
        "id": "_Kta_IBRyC6Z",
        "outputId": "a18b4ede-ce16-456d-b9fa-c1ccb544a725"
      },
      "execution_count": 17,
      "outputs": [
        {
          "output_type": "stream",
          "name": "stderr",
          "text": [
            "Llama.generate: prefix-match hit\n"
          ]
        }
      ]
    },
    {
      "cell_type": "code",
      "source": [
        "display_token(llm, t22)"
      ],
      "metadata": {
        "colab": {
          "base_uri": "https://localhost:8080/"
        },
        "id": "hPnkhpJDyOqZ",
        "outputId": "8de59836-1a11-438f-d3a5-17ecb2da4144"
      },
      "execution_count": 18,
      "outputs": [
        {
          "output_type": "stream",
          "name": "stdout",
          "text": [
            "29892 ,\n"
          ]
        }
      ]
    },
    {
      "cell_type": "code",
      "source": [
        "plot_top_logits(llm)"
      ],
      "metadata": {
        "colab": {
          "base_uri": "https://localhost:8080/",
          "height": 291
        },
        "id": "XuPF2CjQyX1x",
        "outputId": "8f063f40-1196-4e15-d103-ebffb33d1dcd"
      },
      "execution_count": 19,
      "outputs": [
        {
          "output_type": "display_data",
          "data": {
            "text/plain": [
              "<Figure size 600x300 with 1 Axes>"
            ],
            "image/png": "[encoded data removed]"
          },
          "metadata": {}
        }
      ]
    },
    {
      "cell_type": "code",
      "source": [
        "t23 = next(g2)\n",
        "display_token(llm, t23)"
      ],
      "metadata": {
        "colab": {
          "base_uri": "https://localhost:8080/"
        },
        "id": "9BbsnDgXyc9r",
        "outputId": "5c1d4932-9434-4cbe-d1ce-27fd6dedaf99"
      },
      "execution_count": 20,
      "outputs": [
        {
          "output_type": "stream",
          "name": "stdout",
          "text": [
            "306  I\n"
          ]
        }
      ]
    },
    {
      "cell_type": "code",
      "source": [
        "plot_top_logits(llm)"
      ],
      "metadata": {
        "colab": {
          "base_uri": "https://localhost:8080/",
          "height": 291
        },
        "id": "6zQ5Do_1ys7e",
        "outputId": "bdecd6fd-3ac0-4b74-c8b5-eae0fc9f5e0d"
      },
      "execution_count": 21,
      "outputs": [
        {
          "output_type": "display_data",
          "data": {
            "text/plain": [
              "<Figure size 600x300 with 1 Axes>"
            ],
            "image/png": "[encoded data removed]"
          },
          "metadata": {}
        }
      ]
    }
  ]
}