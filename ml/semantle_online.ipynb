{
 "cells": [
  {
   "cell_type": "markdown",
   "id": "7f6f5a13-e250-45bc-b45e-ddb9a8f320db",
   "metadata": {
    "tags": []
   },
   "source": [
    "# Solver that can play Semantle online\n",
    "\n",
    "Online guessing with USE semantics and webdriver integration"
   ]
  },
  {
   "cell_type": "code",
   "execution_count": 1,
   "id": "56d19744-72ee-4dbf-b3bf-8e1b6c7ae86c",
   "metadata": {},
   "outputs": [],
   "source": [
    "from english_words import english_words_set\n",
    "import similarity_model as sm\n",
    "from gradient_solver import GradientSolver\n",
    "from cohort_bayes_solver import CohortBayesSolver"
   ]
  },
  {
   "cell_type": "code",
   "execution_count": 2,
   "id": "d683e287-fbfb-42d4-9adc-53ace91ffb68",
   "metadata": {},
   "outputs": [],
   "source": [
    "from selenium import webdriver\n",
    "from selenium.webdriver.common.keys import Keys\n",
    "from selenium.webdriver.common.by import By\n",
    "from selenium.webdriver.support.ui import WebDriverWait\n",
    "from selenium.webdriver.support import expected_conditions as EC\n",
    "from selenium.common.exceptions import StaleElementReferenceException\n",
    "import time"
   ]
  },
  {
   "cell_type": "markdown",
   "id": "d1adc917-d835-481d-9577-b35d8695b83a",
   "metadata": {},
   "source": [
    "## Similarity model"
   ]
  },
  {
   "cell_type": "code",
   "execution_count": 3,
   "id": "e50b81bf-0169-429f-ad60-7e9657f10973",
   "metadata": {},
   "outputs": [
    {
     "name": "stderr",
     "output_type": "stream",
     "text": [
      "2022-07-22 21:15:55.353333: I tensorflow/core/platform/cpu_feature_guard.cc:151] This TensorFlow binary is optimized with oneAPI Deep Neural Network Library (oneDNN) to use the following CPU instructions in performance-critical operations:  AVX2 FMA\n",
      "To enable them in other operations, rebuild TensorFlow with the appropriate compiler flags.\n"
     ]
    }
   ],
   "source": [
    "base_vocabulary = [w.lower() for w in english_words_set]\n",
    "similarity_use = sm.SimilarityModelUSE(base_vocabulary)\n",
    "similarity_w2v = sm.SimilarityModelW2V(base_vocabulary)"
   ]
  },
  {
   "cell_type": "markdown",
   "id": "426a37a4-3bb0-48f6-9ad0-e5c43b314faf",
   "metadata": {},
   "source": [
    "## Incorporate game history"
   ]
  },
  {
   "cell_type": "code",
   "execution_count": 4,
   "id": "52ab8529-3ff9-430c-a6b0-0a62af5d2ab6",
   "metadata": {
    "tags": []
   },
   "outputs": [],
   "source": [
    "def merge_guesses(solver, guesses, scores):\n",
    "    unmerged = []\n",
    "    for i, gw in enumerate(guesses):\n",
    "        merged = False\n",
    "        if gw in solver.similarity.vocabulary:\n",
    "            gi = solver.similarity.word_index(gw)\n",
    "            if not solver.guess_merged(gi):\n",
    "                solver.merge_guess(gi, scores[i], 100)\n",
    "                merged = True\n",
    "        if not merged:\n",
    "            unmerged.append(i)\n",
    "    return unmerged"
   ]
  },
  {
   "cell_type": "markdown",
   "id": "5734f16f-9b23-4da0-81e5-8e694c9a7231",
   "metadata": {},
   "source": [
    "## Read game and guess"
   ]
  },
  {
   "cell_type": "code",
   "execution_count": 5,
   "id": "692ac9a2-74d0-4e17-bb2a-3f97da57a664",
   "metadata": {},
   "outputs": [],
   "source": [
    "def live_guess(driver, guess):\n",
    "    guess_input = driver.find_element(By.ID, \"guess\")\n",
    "    guess_input.send_keys(guess)\n",
    "    guess_input.send_keys(Keys.RETURN)\n",
    "\n",
    "def guess_missed(driver):\n",
    "    guess_error = driver.find_element(By.ID, \"error\")\n",
    "    return guess_error.is_displayed()\n",
    "    \n",
    "def clear_guess(driver):\n",
    "    guess_input = driver.find_element(By.ID, \"guess\")\n",
    "    guess_input.clear()"
   ]
  },
  {
   "cell_type": "code",
   "execution_count": 6,
   "id": "577c3672-38ad-4903-b72e-543a6a22b474",
   "metadata": {
    "tags": []
   },
   "outputs": [],
   "source": [
    "def get_scores(driver):\n",
    "    guess_table = driver.find_element(By.ID, \"guesses\")\n",
    "    rows = guess_table.find_elements(By.TAG_NAME, \"tr\")\n",
    "    guesses = []\n",
    "    scores = []\n",
    "    for row in rows:\n",
    "        cols = row.find_elements(By.TAG_NAME, \"td\")\n",
    "        if len(cols) >= 3:\n",
    "            guesses.append(cols[1].text)\n",
    "            scores.append(float(cols[2].text))\n",
    "    return guesses, scores"
   ]
  },
  {
   "cell_type": "markdown",
   "id": "d8e2eda9-3c3f-4241-b61a-939638fab2ee",
   "metadata": {},
   "source": [
    "## Init solver and game"
   ]
  },
  {
   "cell_type": "code",
   "execution_count": 7,
   "id": "138c2d2b-aad8-4e8a-8bda-b9d607ca3b38",
   "metadata": {},
   "outputs": [],
   "source": [
    "solver = GradientSolver(similarity_use, seeds=3, log=True)"
   ]
  },
  {
   "cell_type": "code",
   "execution_count": 8,
   "id": "a4f10280-b522-4075-a697-869c47776a1e",
   "metadata": {},
   "outputs": [],
   "source": [
    "driver = webdriver.Firefox()\n",
    "driver.get(\"https://semantle.com\")\n",
    "assert \"Semantle\" in driver.title\n",
    "try:\n",
    "    elem = WebDriverWait(driver, 30).until(EC.visibility_of_element_located((By.ID, \"rules-close\")))\n",
    "finally:\n",
    "    driver.find_element(By.ID, \"rules-close\").click()"
   ]
  },
  {
   "cell_type": "markdown",
   "id": "901b3d43-4e72-4229-ae82-9b889fe48512",
   "metadata": {},
   "source": [
    "## Automatically solve"
   ]
  },
  {
   "cell_type": "code",
   "execution_count": 9,
   "id": "dbcc722e-f54e-401d-88d1-55834596c050",
   "metadata": {},
   "outputs": [],
   "source": [
    "guesses, scores = [], []\n",
    "while not (len(scores) > 0 and max(scores) > 99.9):\n",
    "    guess = solver.similarity.word_string(solver.make_guess())\n",
    "    live_guess(driver, guess)\n",
    "    time.sleep(1)\n",
    "    missed = guess_missed(driver)\n",
    "    if missed: solver.merge_guess(solver.similarity.word_index(guess), 0, 100)\n",
    "    clear_guess(driver)\n",
    "    if missed: time.sleep(1)\n",
    "    try:\n",
    "        guesses, scores = get_scores(driver)\n",
    "    except StaleElementReferenceException:\n",
    "        pass\n",
    "    finally:\n",
    "        merge_guesses(solver, guesses, scores)"
   ]
  },
  {
   "cell_type": "code",
   "execution_count": 10,
   "id": "a3314daf-42d0-42a5-8fc4-311e025bd1d2",
   "metadata": {},
   "outputs": [],
   "source": [
    "driver.quit()"
   ]
  },
  {
   "cell_type": "code",
   "execution_count": null,
   "id": "d71d5015-c5f8-4bd4-b6fe-75f3e29d8643",
   "metadata": {},
   "outputs": [],
   "source": []
  }
 ],
 "metadata": {
  "kernelspec": {
   "display_name": "Python 3 (ipykernel)",
   "language": "python",
   "name": "python3"
  },
  "language_info": {
   "codemirror_mode": {
    "name": "ipython",
    "version": 3
   },
   "file_extension": ".py",
   "mimetype": "text/x-python",
   "name": "python",
   "nbconvert_exporter": "python",
   "pygments_lexer": "ipython3",
   "version": "3.9.10"
  }
 },
 "nbformat": 4,
 "nbformat_minor": 5
}
