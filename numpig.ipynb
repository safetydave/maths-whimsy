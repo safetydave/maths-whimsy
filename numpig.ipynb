{
  "nbformat": 4,
  "nbformat_minor": 0,
  "metadata": {
    "colab": {
      "name": "numpig.ipynb",
      "provenance": [],
      "collapsed_sections": []
    },
    "kernelspec": {
      "name": "python3",
      "display_name": "Python 3"
    },
    "language_info": {
      "name": "python"
    }
  },
  "cells": [
    {
      "cell_type": "markdown",
      "source": [
        "# Intro"
      ],
      "metadata": {
        "id": "n7PejwEp3g0J"
      }
    },
    {
      "cell_type": "markdown",
      "source": [
        "I called this \"numpig\" because it's one specific example of a numpy map-reduce approach that somewhat whimsically called to mind for me the image of a python eating multiple pigs (or maybe that's gruesomely). The ideas is to squeeze big memory requests sequentially through limited available memory. It also hogs memory for this use case compared to a more efficient space partitioning approach (see below). This could be improved slightly using a `triu_indices` rather than `meshgrid` approach (also demonstrated). In any case, I'm keeping it for the whimsy."
      ],
      "metadata": {
        "id": "FfsaZ0Go3Myb"
      }
    },
    {
      "cell_type": "markdown",
      "source": [
        "# Problem definition"
      ],
      "metadata": {
        "id": "_lW2AArhz60d"
      }
    },
    {
      "cell_type": "markdown",
      "source": [
        "We want to find concident points (to some precision) from a collection of points."
      ],
      "metadata": {
        "id": "FJwikZlVz_fr"
      }
    },
    {
      "cell_type": "code",
      "source": [
        "import numpy as np\n",
        "import matplotlib.pyplot as plt\n",
        "\n",
        "num_points = 10\n",
        "coincident_precision = 0.2\n",
        "\n",
        "def dist(a, b):\n",
        "  d = b - a\n",
        "  return np.hypot(d[...,0], d[...,1])\n",
        "\n",
        "def coincident(a, b):\n",
        "  return dist(a, b) < coincident_precision\n",
        "\n",
        "xs = np.random.uniform(0, 1, num_points)\n",
        "ys = np.random.uniform(0, 1, num_points)\n",
        "\n",
        "points = np.stack((xs, ys), axis=1)"
      ],
      "metadata": {
        "id": "HNOUUI6Tzhb9"
      },
      "execution_count": 1,
      "outputs": []
    },
    {
      "cell_type": "code",
      "source": [
        "plt.scatter(xs, ys)\n",
        "plt.show()"
      ],
      "metadata": {
        "colab": {
          "base_uri": "https://localhost:8080/",
          "height": 265
        },
        "id": "oyW_EXCM0Xz9",
        "outputId": "ce0f8d3b-885a-48ba-f3ae-43b84a85e8e5"
      },
      "execution_count": 2,
      "outputs": [
        {
          "output_type": "display_data",
          "data": {
            "image/png": "[encoded data removed]",
            "text/plain": [
              "<Figure size 432x288 with 1 Axes>"
            ]
          },
          "metadata": {
            "needs_background": "light"
          }
        }
      ]
    },
    {
      "cell_type": "markdown",
      "source": [
        "# Process the whole array in one chunk"
      ],
      "metadata": {
        "id": "eWkl-TWFaNLe"
      }
    },
    {
      "cell_type": "markdown",
      "source": [
        "First cut brute force. Evalute all pairs in a big pairwise array. Requires lots of memory but simple and fast. \n",
        "\n",
        "NB. With \"upper\" (triangular), we're eliminating any results on or below the diagonal as they are trivial results or duplicates."
      ],
      "metadata": {
        "id": "utfvj-gqsLhv"
      }
    },
    {
      "cell_type": "code",
      "source": [
        "def coincident_points(ps):\n",
        "  p_ids = np.arange(ps.shape[0])\n",
        "  pi, pj = np.meshgrid(p_ids, p_ids)\n",
        "  all_coincident = coincident(ps[pi], ps[pj])\n",
        "  coincident_ids = np.argwhere(all_coincident)\n",
        "  return coincident_ids\n",
        "\n",
        "def upper_ids(c_ids):\n",
        "  return c_ids[np.nonzero(c_ids[:,1] - c_ids[:,0] > 0)]\n",
        "\n",
        "def upper_coincident_points(ps):\n",
        "  return upper_ids(coincident_points(ps))"
      ],
      "metadata": {
        "id": "pdnyAr-PyuuG"
      },
      "execution_count": 3,
      "outputs": []
    },
    {
      "cell_type": "code",
      "source": [
        "uc = upper_coincident_points(points)"
      ],
      "metadata": {
        "id": "ROZDpcoz1aXo"
      },
      "execution_count": 4,
      "outputs": []
    },
    {
      "cell_type": "code",
      "source": [
        "plt.scatter(xs, ys)\n",
        "for i in range(uc.shape[0]):\n",
        "  plt.plot([xs[uc[i,0]], xs[uc[i,1]]], [ys[uc[i,0]], ys[uc[i,1]]], color='tab:orange')\n",
        "plt.title(f'Pairs of points within distance {coincident_precision}')\n",
        "plt.show()"
      ],
      "metadata": {
        "colab": {
          "base_uri": "https://localhost:8080/",
          "height": 281
        },
        "id": "G4rTe_8hsiFk",
        "outputId": "962eef59-98c8-4a54-e397-82fd6b6ad77b"
      },
      "execution_count": 5,
      "outputs": [
        {
          "output_type": "display_data",
          "data": {
            "image/png": "[encoded data removed]",
            "text/plain": [
              "<Figure size 432x288 with 1 Axes>"
            ]
          },
          "metadata": {
            "needs_background": "light"
          }
        }
      ]
    },
    {
      "cell_type": "markdown",
      "source": [
        "# Sequentially process chunks of array that fit in memory"
      ],
      "metadata": {
        "id": "hZ0HsQCg3oFx"
      }
    },
    {
      "cell_type": "markdown",
      "source": [
        "Eventually, as `num_points` scales, we run out of memory. (Try 20000 if running in base Colab instance.)\n",
        "\n",
        "To fit in limited memory, we break the big array into chunks and process them sequentially, then reassemble the output list. Still brute force, but note that as we're only keeping \"upper\" (triangular) results, we needn't process chunks below the diagonal."
      ],
      "metadata": {
        "id": "8iqYJu263xXN"
      }
    },
    {
      "cell_type": "code",
      "source": [
        "def num_chunks(dim, max_dim):\n",
        "  chunks = dim // max_dim\n",
        "  chunks = chunks + (1 if dim % max_dim > 0 else 0)\n",
        "  return chunks\n",
        "\n",
        "def splits(a, max_dim):\n",
        "  chunks = num_chunks(a.shape[0], max_dim)\n",
        "  return np.array_split(a, chunks)"
      ],
      "metadata": {
        "id": "hNRhZHDvjqib"
      },
      "execution_count": 6,
      "outputs": []
    },
    {
      "cell_type": "code",
      "source": [
        "def upper_coincident_points_chunk(ps, si, sj, ax=None):\n",
        "  pi, pj = np.meshgrid(sj, si)\n",
        "  c = coincident(ps[pi], ps[pj])\n",
        "  ## visualisation code\n",
        "  ax.imshow(c, vmin=0, vmax=1)\n",
        "  ax.axis('off')\n",
        "  ##\n",
        "  c_ids = np.argwhere(c)\n",
        "  c_ids[:,0] = c_ids[:,0] + si[0]\n",
        "  c_ids[:,1] = c_ids[:,1] + sj[0]\n",
        "  return upper_ids(c_ids)\n",
        "\n",
        "def upper_coincident_points_split(ps, max_dim):\n",
        "  p_ids = np.arange(ps.shape[0])\n",
        "  id_splits = splits(p_ids, max_dim)\n",
        "  ## visualisation code\n",
        "  fig, ax = plt.subplots(len(id_splits), len(id_splits))\n",
        "  ##\n",
        "  all_coincident_ids = []\n",
        "\n",
        "  for i in range(len(id_splits)):\n",
        "    for j in range(i, len(id_splits)):     \n",
        "      uc_ids = upper_coincident_points_chunk(ps, id_splits[i], id_splits[j], ax=ax[i,j])\n",
        "      all_coincident_ids.extend([tuple(uc) for uc in uc_ids])\n",
        "\n",
        "  ## visualisation code\n",
        "  for i in range(len(id_splits)):\n",
        "    for j in range(i):     \n",
        "      ax[i,j].axis('off')\n",
        "  fig.suptitle('numpig array map reduce')\n",
        "  plt.show()\n",
        "  ##\n",
        "\n",
        "  return np.array(sorted(all_coincident_ids))"
      ],
      "metadata": {
        "id": "uFrsd1usE5zJ"
      },
      "execution_count": 7,
      "outputs": []
    },
    {
      "cell_type": "code",
      "source": [
        "split_uc = upper_coincident_points_split(points, 3)"
      ],
      "metadata": {
        "colab": {
          "base_uri": "https://localhost:8080/",
          "height": 277
        },
        "id": "47KASFati-fT",
        "outputId": "0406ca2f-2132-4caf-8982-9145d61162d9"
      },
      "execution_count": 8,
      "outputs": [
        {
          "output_type": "display_data",
          "data": {
            "image/png": "[encoded data removed]",
            "text/plain": [
              "<Figure size 432x288 with 16 Axes>"
            ]
          },
          "metadata": {
            "needs_background": "light"
          }
        }
      ]
    },
    {
      "cell_type": "markdown",
      "source": [
        "# Compare the results"
      ],
      "metadata": {
        "id": "Z2QWSKjCaWP8"
      }
    },
    {
      "cell_type": "code",
      "source": [
        "delta = split_uc - uc\n",
        "np.amax(delta), np.amin(delta)"
      ],
      "metadata": {
        "colab": {
          "base_uri": "https://localhost:8080/"
        },
        "id": "0dRgc2sXDy0-",
        "outputId": "66339e86-a804-49bd-992d-d4e29c4467c0"
      },
      "execution_count": 9,
      "outputs": [
        {
          "output_type": "execute_result",
          "data": {
            "text/plain": [
              "(0, 0)"
            ]
          },
          "metadata": {},
          "execution_count": 9
        }
      ]
    },
    {
      "cell_type": "markdown",
      "source": [
        "# Better exploiting symmetry"
      ],
      "metadata": {
        "id": "k60TxLuZnMqU"
      }
    },
    {
      "cell_type": "markdown",
      "source": [
        "Because distance is symmetrical, we needn't process anything below the diagonal. This approach uses `triu_indices` instead of `meshgrid` but we need an inverse method to find row and column from index of trui_indicies array"
      ],
      "metadata": {
        "id": "y4OaQJftnURE"
      }
    },
    {
      "cell_type": "code",
      "source": [
        "def coincident_points_triu(ps):\n",
        "  pi, pj = np.triu_indices(ps.shape[0], k=1)\n",
        "  all_coincident = coincident(ps[pi], ps[pj])\n",
        "  coincident_ids = np.argwhere(all_coincident).flatten()\n",
        "  return coincident_ids"
      ],
      "metadata": {
        "id": "8KSe6F3A8x6W"
      },
      "execution_count": 10,
      "outputs": []
    },
    {
      "cell_type": "markdown",
      "source": [
        "This method straightforward to understand for a single index"
      ],
      "metadata": {
        "id": "dX6xyuuuUcQX"
      }
    },
    {
      "cell_type": "code",
      "source": [
        "def triu_rowcol(n, i, k=0):\n",
        "  rowcum = np.cumsum(np.flip(np.arange(1, n - k + 1)))\n",
        "  if i >= rowcum[-1]:\n",
        "    raise IndexError(\"triangular index out of range\")\n",
        "  row = np.argwhere(rowcum > i).flatten()[0]\n",
        "  col = i + (row + k) - (rowcum[row - 1] if row > 0 else 0)\n",
        "  return row, col"
      ],
      "metadata": {
        "id": "X7J1wbkzlOYG"
      },
      "execution_count": 11,
      "outputs": []
    },
    {
      "cell_type": "markdown",
      "source": [
        "But not super neat for vectorising"
      ],
      "metadata": {
        "id": "hk3LDDixYW68"
      }
    },
    {
      "cell_type": "code",
      "source": [
        "uti = coincident_points_triu(points)\n",
        "utp1 = np.array([triu_rowcol(points.shape[0], i, k=1) for i in uti])"
      ],
      "metadata": {
        "id": "-8g7z5TS88-Z"
      },
      "execution_count": 12,
      "outputs": []
    },
    {
      "cell_type": "code",
      "source": [
        "delta = utp1 - uc\n",
        "np.amax(delta), np.amin(delta)"
      ],
      "metadata": {
        "colab": {
          "base_uri": "https://localhost:8080/"
        },
        "id": "xkLGJoNUpphe",
        "outputId": "64b2b4a9-e410-4ea3-8d02-084cf2506b75"
      },
      "execution_count": 13,
      "outputs": [
        {
          "output_type": "execute_result",
          "data": {
            "text/plain": [
              "(0, 0)"
            ]
          },
          "metadata": {},
          "execution_count": 13
        }
      ]
    },
    {
      "cell_type": "markdown",
      "source": [
        "This alternative method relies on the quadratic form of index by row, neater for vecotrising"
      ],
      "metadata": {
        "id": "D6Te2Mk2Yu1g"
      }
    },
    {
      "cell_type": "code",
      "source": [
        "def triu_row_array(n, i):\n",
        "  if np.max(i) >= n * (n + 1) // 2:\n",
        "    raise IndexError(\"triangular index out of range\")\n",
        "  b = -(2 * n + 1)\n",
        "  c = 2 * np.atleast_1d(i)\n",
        "  det = b * b - 4 * c\n",
        "  return ((-b - np.sqrt(det)) / 2).astype(int)"
      ],
      "metadata": {
        "id": "yMg8RcauQprE"
      },
      "execution_count": 14,
      "outputs": []
    },
    {
      "cell_type": "code",
      "source": [
        "plt.plot(np.arange(55), triu_row_array(10, np.arange(55)), 'o')\n",
        "plt.title('Row by triu index')\n",
        "plt.show()"
      ],
      "metadata": {
        "colab": {
          "base_uri": "https://localhost:8080/",
          "height": 281
        },
        "id": "3nh5VU0oZIGd",
        "outputId": "ed6a2b78-ac76-4702-c045-34e8bb994f23"
      },
      "execution_count": 15,
      "outputs": [
        {
          "output_type": "display_data",
          "data": {
            "image/png": "[encoded data removed]",
            "text/plain": [
              "<Figure size 432x288 with 1 Axes>"
            ]
          },
          "metadata": {
            "needs_background": "light"
          }
        }
      ]
    },
    {
      "cell_type": "code",
      "source": [
        "def triu_rowcol_array(n, i, k=0):\n",
        "  rows = triu_row_array(n - k, i)\n",
        "  i_rows = rows * (2 * (n - k) + 1 - rows) // 2\n",
        "  cols = i - i_rows + rows + k\n",
        "  return np.stack((rows, cols), axis=-1)"
      ],
      "metadata": {
        "id": "qsOVahyJN3CI"
      },
      "execution_count": 16,
      "outputs": []
    },
    {
      "cell_type": "code",
      "source": [
        "utp2 = triu_rowcol_array(points.shape[0], uti, k=1)"
      ],
      "metadata": {
        "id": "TCuOVWfyWVw2"
      },
      "execution_count": 17,
      "outputs": []
    },
    {
      "cell_type": "code",
      "source": [
        "delta = utp2 - uc\n",
        "np.amax(delta), np.amin(delta)"
      ],
      "metadata": {
        "colab": {
          "base_uri": "https://localhost:8080/"
        },
        "id": "miV09nJsWvUQ",
        "outputId": "852705a0-8239-4883-dde4-c8e5657010a9"
      },
      "execution_count": 18,
      "outputs": [
        {
          "output_type": "execute_result",
          "data": {
            "text/plain": [
              "(0, 0)"
            ]
          },
          "metadata": {},
          "execution_count": 18
        }
      ]
    },
    {
      "cell_type": "markdown",
      "source": [
        "# Even better solution\n",
        "\n",
        "In this case is a space partitioning method like https://docs.scipy.org/doc/scipy/reference/generated/scipy.spatial.KDTree.html, which is faster still than \"numpig\" and hogs far less memory, but decided to keep this notebook anyway for the maths whimsy."
      ],
      "metadata": {
        "id": "Zln16TIATo16"
      }
    },
    {
      "cell_type": "code",
      "source": [
        "from scipy.spatial import KDTree\n",
        "\n",
        "kd_uc = KDTree(points).query_pairs(coincident_precision)\n",
        "len(kd_uc)"
      ],
      "metadata": {
        "colab": {
          "base_uri": "https://localhost:8080/"
        },
        "id": "wF4LJvAg3TZ0",
        "outputId": "c76dad11-716e-4c1b-e022-b6ce088faaaa"
      },
      "execution_count": 19,
      "outputs": [
        {
          "output_type": "execute_result",
          "data": {
            "text/plain": [
              "6"
            ]
          },
          "metadata": {},
          "execution_count": 19
        }
      ]
    },
    {
      "cell_type": "code",
      "source": [
        "delta_2 = np.array(sorted(list(kd_uc))) - uc\n",
        "np.amax(delta_2), np.amin(delta_2)"
      ],
      "metadata": {
        "colab": {
          "base_uri": "https://localhost:8080/"
        },
        "id": "NXe9yzPf46x9",
        "outputId": "17132133-589a-4b57-b9e6-e6eb0b47ab12"
      },
      "execution_count": 20,
      "outputs": [
        {
          "output_type": "execute_result",
          "data": {
            "text/plain": [
              "(0, 0)"
            ]
          },
          "metadata": {},
          "execution_count": 20
        }
      ]
    }
  ]
}